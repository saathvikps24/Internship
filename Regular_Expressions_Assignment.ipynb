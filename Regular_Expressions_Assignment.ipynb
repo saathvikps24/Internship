{
 "cells": [
  {
   "cell_type": "markdown",
   "id": "03c10b83",
   "metadata": {},
   "source": [
    "# Regular Expressions"
   ]
  },
  {
   "cell_type": "code",
   "execution_count": 1,
   "id": "4b2b12da",
   "metadata": {},
   "outputs": [
    {
     "name": "stdout",
     "output_type": "stream",
     "text": [
      "Virat:Kohli::is:a:very:good:batsmen:\n"
     ]
    }
   ],
   "source": [
    "#Question 1\n",
    "''' Write a Python program to replace all occurrences of a space, comma, or dot with a colon. '''\n",
    "import regex as re\n",
    "y = \"[' '|,|.]\"\n",
    "target_string = \"Virat Kohli, is a very good batsmen.\"\n",
    "result = re.sub(y,r':',target_string)\n",
    "print(result)"
   ]
  },
  {
   "cell_type": "code",
   "execution_count": 2,
   "id": "5f323876",
   "metadata": {},
   "outputs": [
    {
     "name": "stdout",
     "output_type": "stream",
     "text": [
      "['apple', 'Apple']\n"
     ]
    }
   ],
   "source": [
    "#Question 2\n",
    "'''Write a Python program to find all words starting with 'a' or 'e' in a given string.'''\n",
    "t_string = \"The fruit apple is a rich source of fiber and Vitamin C.Also an Apple a day keeps a doctor away \"\n",
    "result = re.findall(\"[Aa][a-z]+e\",t_string)\n",
    "print(result)"
   ]
  },
  {
   "cell_type": "code",
   "execution_count": 4,
   "id": "9b29eb5a",
   "metadata": {},
   "outputs": [
    {
     "name": "stdout",
     "output_type": "stream",
     "text": [
      "['rich', 'Also', 'away']\n"
     ]
    }
   ],
   "source": [
    "#Question 3\n",
    "'''Create a function in python to find all words that are at least 4 characters long in a string. \n",
    "The use of the re.compile() method is mandatory.'''\n",
    "def four_letter_word(strings):\n",
    "    pattern = re.compile(r\"\\b\\w{4}\\b\")\n",
    "    d_string = re.findall(pattern,strings)\n",
    "    return d_string\n",
    "t_string = \"The fruit apple is a rich source of fiber and Vitamin C.Also an Apple a day keeps a doctor away \"\n",
    "l_string = four_letter_word(t_string)\n",
    "print(l_string)"
   ]
  },
  {
   "cell_type": "code",
   "execution_count": 7,
   "id": "248c0863",
   "metadata": {},
   "outputs": [
    {
     "name": "stdout",
     "output_type": "stream",
     "text": [
      "['The', 'fruit', 'apple', 'rich', 'fiber', 'and', 'Also', 'Apple', 'day', 'keeps', 'away']\n"
     ]
    }
   ],
   "source": [
    "#Question 4\n",
    "'''Create a function in python to find all three, four, and five character words in a string. \n",
    "The use of the re.compile() method is mandatory.'''\n",
    "def func_2(strings):\n",
    "    pattern = re.compile(r\"\\b\\w{3,5}\\b\")\n",
    "    h_string = re.findall(pattern,strings)\n",
    "    return h_string\n",
    "t_string = \"The fruit apple is a rich source of fiber and Vitamin C.Also an Apple a day keeps a doctor away \"\n",
    "i_string = func_2(t_string)\n",
    "print(i_string)"
   ]
  },
  {
   "cell_type": "code",
   "execution_count": 72,
   "id": "eb1b06fd",
   "metadata": {},
   "outputs": [
    {
     "name": "stdout",
     "output_type": "stream",
     "text": [
      "['example .com ', 'hr@fliprobo .com ', 'github .com ', 'Hello  Data Science World ', 'Data  Scientist ']\n"
     ]
    }
   ],
   "source": [
    "#Question 5\n",
    "'''Create a function in Python to remove the parenthesis in a list of strings. \n",
    "The use of the re.compile() method is mandatory.'''\n",
    "def func(strings):\n",
    "    pattern = re.compile(r\"\\(|\\)\")\n",
    "    #Using list comprehension\n",
    "    c_string = [re.sub(pattern,' ',string) for string in strings]\n",
    "    return c_string\n",
    "o_string = [\"example(.com)\", \"hr@fliprobo(.com)\", \"github(.com)\", \"Hello (Data Science World)\", \"Data (Scientist)\"]\n",
    "c_string = func(o_string)\n",
    "print(c_string)"
   ]
  },
  {
   "cell_type": "code",
   "execution_count": 70,
   "id": "6e2d387b",
   "metadata": {},
   "outputs": [
    {
     "name": "stdout",
     "output_type": "stream",
     "text": [
      "Sample Text: [\"example \", \"hr@fliprobo \", \"github \", \"Hello \", \"Data \"]\n"
     ]
    }
   ],
   "source": [
    "#Question 6\n",
    "'''Write a python program to remove the parenthesis area from the text stored in the text file using Regular Expression.'''\n",
    "with open(\"C:/Users/user/Documents/sample text 29.txt\") as file:\n",
    "    for line in file:\n",
    "        result = re.sub((r\"\\([^)]*\\)\"),'',line)\n",
    "        print(result)"
   ]
  },
  {
   "cell_type": "code",
   "execution_count": 36,
   "id": "849a3f1d",
   "metadata": {},
   "outputs": [
    {
     "name": "stdout",
     "output_type": "stream",
     "text": [
      "['Apple', 'Fruit', 'Is', 'Rich', 'Source', 'Of', 'Fiber', 'And', 'Vitamins']\n"
     ]
    }
   ],
   "source": [
    "#Question 7\n",
    "'''Write a regular expression in Python to split a string into uppercase letters.'''\n",
    "target_string = \"AppleFruitIsRichSourceOfFiberAndVitamins\"\n",
    "result = re.split(r\"(?<=[a-z])(?=[A-Z])\",target_string)\n",
    "print(result)"
   ]
  },
  {
   "cell_type": "code",
   "execution_count": 41,
   "id": "6b6680c5",
   "metadata": {},
   "outputs": [
    {
     "name": "stdout",
     "output_type": "stream",
     "text": [
      "AppleFruitIsRichSourceOf 1FiberAnd 2Vitamins\n"
     ]
    }
   ],
   "source": [
    "#Question 8\n",
    "'''Create a function in python to insert spaces between words starting with numbers.'''\n",
    "def func_4(string):\n",
    "    pattern = re.compile(r\"(?<=[a-z])(?=[0-9])\")\n",
    "    u_string = re.sub(pattern,\" \",string)\n",
    "    return u_string\n",
    "test_string = \"AppleFruitIsRichSourceOf1FiberAnd2Vitamins\"\n",
    "p_string = func_4(test_string)\n",
    "print(p_string)"
   ]
  },
  {
   "cell_type": "code",
   "execution_count": 10,
   "id": "ae510eec",
   "metadata": {},
   "outputs": [
    {
     "name": "stdout",
     "output_type": "stream",
     "text": [
      " Apple Fruit Is Rich Source Of 1 Fiber And 2 Vitamins\n"
     ]
    }
   ],
   "source": [
    "#Question 9\n",
    "'''Create a function in python to insert spaces between words starting with capital letters or with numbers.'''\n",
    "def func_4(string):\n",
    "    pattern = re.compile(r\"(?<=[a-z])(?=[0-9])|(?=[A-Z])\")\n",
    "    u_string = re.sub(pattern,\" \",string)\n",
    "    return u_string\n",
    "test_string = \"AppleFruitIsRichSourceOf1FiberAnd2Vitamins\"\n",
    "p_string = func_4(test_string)\n",
    "print(p_string)"
   ]
  },
  {
   "cell_type": "code",
   "execution_count": 73,
   "id": "2c76d981",
   "metadata": {},
   "outputs": [
    {
     "name": "stdout",
     "output_type": "stream",
     "text": [
      "['xyz@domain.com', 'xyz.abc@sdomain.domain.com']\n",
      "['hr@fliprobo.com']\n"
     ]
    }
   ],
   "source": [
    "#Question 10\n",
    "'''Write a python program to extract email address from the text stored in the text file using Regular Expression.'''\n",
    "with open(\"C:/Users/user/Documents/Sample Text 12.txt\") as file:\n",
    "    for line in file:\n",
    "        pattern = \"[a-zA-Z0-9._%+-]+@[a-zA-Z0-9.+]+\\.[a-zA-Z]{2,}\"\n",
    "        res = re.findall(pattern,line)\n",
    "        print(res)"
   ]
  },
  {
   "cell_type": "code",
   "execution_count": 13,
   "id": "f8d4ebd7",
   "metadata": {},
   "outputs": [
    {
     "name": "stdout",
     "output_type": "stream",
     "text": [
      "\"Hello345\" is a valid string\n",
      "\"Good_Morning\" is a valid string\n",
      "\"ab!df\" is not a valid string\n",
      "\"xyz_12\" is a valid string\n"
     ]
    }
   ],
   "source": [
    "#Question 11\n",
    "'''Write a Python program to match a string that contains only upper and lowercase letters, numbers, and underscores.'''\n",
    "def func_5(s):\n",
    "    pattern =  r\"^[a-zA-Z0-9_]+$\"\n",
    "    return re.match(pattern,s) \n",
    "test_string = ['Hello345','Good_Morning','ab!df','xyz_12']\n",
    "for string in test_string:\n",
    "    if func_5(string):\n",
    "        print(f'\"{string}\" is a valid string')\n",
    "    else:\n",
    "        print(f'\"{string}\" is not a valid string')"
   ]
  },
  {
   "cell_type": "code",
   "execution_count": 64,
   "id": "a0ffbf9d",
   "metadata": {},
   "outputs": [
    {
     "name": "stdout",
     "output_type": "stream",
     "text": [
      "\"123joedoe\" does not start with \"007\"\n",
      "\"Grow098\" does not start with \"007\"\n",
      "\"4567hello\" does not start with \"007\"\n",
      "\"007james\" starts with \"007\"\n"
     ]
    }
   ],
   "source": [
    "#Question 12 \n",
    "'''Write a Python program where a string will start with a specific number.'''\n",
    "def func_6(string,number):\n",
    "    pattern =  r\"^\" + str(number) + r\"\\D\"\n",
    "    return re.match(pattern,string) \n",
    "test_string1 = ['123joedoe','Grow098','4567hello','007james']\n",
    "number = \"007\"\n",
    "for string in test_string1:\n",
    "    if func_6(string,number):\n",
    "        print(f'\"{string}\" starts with \"{number}\"')\n",
    "    else:\n",
    "        print(f'\"{string}\" does not start with \"{number}\"')"
   ]
  },
  {
   "cell_type": "code",
   "execution_count": 77,
   "id": "d77f89c1",
   "metadata": {},
   "outputs": [
    {
     "name": "stdout",
     "output_type": "stream",
     "text": [
      "['192.168.1.1', '10.1.1', '172.16.1', '192.1.2.1']\n"
     ]
    }
   ],
   "source": [
    "#Question 13\n",
    "'''Write a Python program to remove leading zeros from an IP address'''\n",
    "def func_7(strings):\n",
    "    pattern = re.compile(r\"\\.(00\\d)+\")\n",
    "    k_string = [re.sub(pattern,\".1\",string) for string in strings]\n",
    "    return k_string\n",
    "test_string = [\"192.168.001.001\",\"10.001.001\",\"172.16.001\",\"192.001.2.1\"]\n",
    "ip_string = func_7(test_string)\n",
    "print(ip_string)"
   ]
  },
  {
   "cell_type": "code",
   "execution_count": 76,
   "id": "a133a717",
   "metadata": {},
   "outputs": [
    {
     "name": "stdout",
     "output_type": "stream",
     "text": [
      "['August 15th 1947']\n"
     ]
    }
   ],
   "source": [
    "#Question 14\n",
    "'''Write a regular expression in python to match a date string in the form of Month name \n",
    "followed by day number and year stored in a text file.'''\n",
    "with open(\"C:/Users/user/Documents/sample text 23.txt\") as file:\n",
    "    for line in file:\n",
    "        pattern = r'(\\b(?:January|February|March|April|May|June|July|August|September|October|November|December)\\s+\\d{1,2}\\w{2}\\s+\\d{4}\\b)'\n",
    "        dates = re.findall(pattern,line)\n",
    "        print(dates)"
   ]
  },
  {
   "cell_type": "code",
   "execution_count": 130,
   "id": "8f2e4ad2",
   "metadata": {},
   "outputs": [
    {
     "name": "stdout",
     "output_type": "stream",
     "text": [
      "Pattern matched:  fox\n",
      "Pattern matched:  dog\n",
      "Pattern matched:  horse\n",
      "Pattern matched:  cat\n"
     ]
    }
   ],
   "source": [
    "#Question 15\n",
    "'''Write a Python program to search some literals strings in a string. '''\n",
    "\n",
    "test_string = \"The quick brown fox jumps over the lazy dog.And the horse jumped with the cat sitting on it's back\"\n",
    "result = re.finditer(r\"fox|dog|horse|cat|foxes\",test_string)\n",
    "for match_obj in result:\n",
    "    print(\"Pattern matched: \",match_obj.group())\n",
    "\n",
    "#def literal_string_search(patterns,test_string):\n",
    "#    for pattern in patterns:\n",
    "#        matches = re.findall(pattern,test_string)\n",
    "#        print(f'Found {len(matches)} match for \"{pattern}\":')\n",
    "#        for match in matches:\n",
    "#            print(match)\n",
    "#patterns = ['fox','dog','horse','cate','cat']\n",
    "#test_string = \"The quick brown fox jumps over the lazy dog.And the horse jumped with the cat sitting on it's back\"\n",
    "#literal_string_search(patterns,test_string)"
   ]
  },
  {
   "cell_type": "code",
   "execution_count": 128,
   "id": "d010d790",
   "metadata": {},
   "outputs": [
    {
     "name": "stdout",
     "output_type": "stream",
     "text": [
      "Pattern matched:  fox\n",
      "Location of the matched object:  (16, 19)\n",
      "Start index:  16\n",
      "End index:  19\n",
      "Pattern matched:  dog\n",
      "Location of the matched object:  (40, 43)\n",
      "Start index:  40\n",
      "End index:  43\n",
      "Pattern matched:  horse\n",
      "Location of the matched object:  (52, 57)\n",
      "Start index:  52\n",
      "End index:  57\n",
      "Pattern matched:  cat\n",
      "Location of the matched object:  (74, 77)\n",
      "Start index:  74\n",
      "End index:  77\n"
     ]
    }
   ],
   "source": [
    "#Question 16\n",
    "'''Write a Python program to search a literals string in a string \n",
    "and also find the location within the original string where the pattern occurs'''\n",
    "\n",
    "test_string = \"The quick brown fox jumps over the lazy dog.And the horse jumped with the cat sitting on it's back\"\n",
    "result = re.finditer(r\"fox|dog|horse|cat\",test_string)\n",
    "for match_obj in result:\n",
    "    print(\"Pattern matched: \",match_obj.group())\n",
    "    print(\"Location of the matched object: \",match_obj.span())\n",
    "    print(\"Start index: \",match_obj.start())\n",
    "    print(\"End index: \",match_obj.end())"
   ]
  },
  {
   "cell_type": "code",
   "execution_count": 136,
   "id": "5c62eb10",
   "metadata": {},
   "outputs": [
    {
     "name": "stdout",
     "output_type": "stream",
     "text": [
      "Data\n",
      "Data\n",
      "Data\n",
      "Data\n"
     ]
    }
   ],
   "source": [
    "#Question 17\n",
    "'''Write a Python program to find the substrings within a string.'''\n",
    "test1_string = 'Data Science,Data Analyst,Data Wrangling,Data Engineer'\n",
    "pattern = 'Data'\n",
    "for match_obj in re.findall(pattern,test1_string):\n",
    "    print(match_obj)"
   ]
  },
  {
   "cell_type": "code",
   "execution_count": 137,
   "id": "e1c3d0a2",
   "metadata": {},
   "outputs": [
    {
     "name": "stdout",
     "output_type": "stream",
     "text": [
      "Found Data at 0 and 4\n",
      "Found Data at 13 and 17\n",
      "Found Data at 26 and 30\n",
      "Found Data at 41 and 45\n"
     ]
    }
   ],
   "source": [
    "#Question 18\n",
    "'''Write a Python program to find the occurrence and position of the substrings within a string.'''\n",
    "test2_string = 'Data Science,Data Analyst,Data Wrangling,Data Engineer'\n",
    "pattern = 'Data'\n",
    "for match_obj2 in re.finditer(pattern,test2_string):\n",
    "    s = match_obj2.start()\n",
    "    e = match_obj2.end()\n",
    "    print(f'Found {test2_string[s:e]} at {s} and {e}')"
   ]
  },
  {
   "cell_type": "code",
   "execution_count": 139,
   "id": "4138dc22",
   "metadata": {},
   "outputs": [
    {
     "name": "stdout",
     "output_type": "stream",
     "text": [
      "2022-04-23\n",
      "23-04-2022\n"
     ]
    }
   ],
   "source": [
    "#Question 19\n",
    "'''Write a Python program to convert a date of yyyy-mm-dd format to dd-mm-yyyy format.'''\n",
    "def converted_date(date):\n",
    "    return re.sub(r'(\\d{4})-(\\d{1,2})-(\\d{1,2})','\\\\3-\\\\2-\\\\1',date)\n",
    "date= \"2022-04-23\"\n",
    "print(date)\n",
    "print(converted_date(date))"
   ]
  },
  {
   "cell_type": "code",
   "execution_count": 143,
   "id": "c30af2cd",
   "metadata": {},
   "outputs": [
    {
     "name": "stdout",
     "output_type": "stream",
     "text": [
      "['01.12', '0132.12', '2.31', '145.8', '3.01', '27.25', '0.25']\n"
     ]
    }
   ],
   "source": [
    "#Question 20\n",
    "'''Create a function in python to find all decimal numbers with a precision of 1 or 2 in a string. \n",
    "The use of the re.compile() method is mandatory.'''\n",
    "def find_dec_numb(string):\n",
    "    pattern = re.compile(r'\\d+\\.\\d{1,2}')\n",
    "    s_string = re.findall(pattern,string)\n",
    "    return s_string\n",
    "test3_string = \"01.12 0132.123 2.31875 145.8 3.01 27.25 0.25\"\n",
    "b_string = find_dec_numb(test3_string)\n",
    "print(b_string)"
   ]
  },
  {
   "cell_type": "code",
   "execution_count": 6,
   "id": "373f8f41",
   "metadata": {},
   "outputs": [
    {
     "name": "stdout",
     "output_type": "stream",
     "text": [
      "Number: 678, Position: (6, 9)\n",
      "Number: 789, Position: (12, 15)\n",
      "Number: 1224, Position: (18, 22)\n"
     ]
    }
   ],
   "source": [
    "#Question 21\n",
    "'''Write a Python program to separate and print the numbers and their position of a given string.'''\n",
    "string1 = \"abcdef678ghi789uui1224\"\n",
    "pattern = \"\\d+\"\n",
    "result = re.finditer(pattern,string1)\n",
    "for match in result:\n",
    "    number = match.group()\n",
    "    position = match.span()\n",
    "    print(f\"Number: {number}, Position: {position}\")"
   ]
  },
  {
   "cell_type": "code",
   "execution_count": 17,
   "id": "1358151d",
   "metadata": {},
   "outputs": [
    {
     "name": "stdout",
     "output_type": "stream",
     "text": [
      "The Maximum numeric value is : 950\n"
     ]
    }
   ],
   "source": [
    "#Question 22\n",
    "'''Write a regular expression in python program to extract maximum/largest numeric value from a string.'''\n",
    "\n",
    "string1 = 'My marks in each semester are: 947, 896, 926, 524, 734, 950, 642'\n",
    "pattern = \"\\d+\"\n",
    "result = re.findall(pattern,string1)\n",
    "#To find MAX numeric value\n",
    "if result:\n",
    "    max_number = max(map(int,result)) #To convert numeric values to integers\n",
    "    print(f\"The Maximum numeric value is : {max_number}\")\n",
    "else:\n",
    "    print(\"No numeric values found in the string\")"
   ]
  },
  {
   "cell_type": "code",
   "execution_count": 19,
   "id": "3c214ba0",
   "metadata": {},
   "outputs": [
    {
     "name": "stdout",
     "output_type": "stream",
     "text": [
      "Regular Expression Is An Important Topic In Python\n"
     ]
    }
   ],
   "source": [
    "#Question 23\n",
    "'''Create a function in python to insert spaces between words starting with capital letters.'''\n",
    "def inserting_space(test_string):\n",
    "    result = re.sub(r'([a-z])([A-Z])',r'\\1 \\2',test_string)\n",
    "    return result\n",
    "test_string = \"RegularExpressionIsAnImportantTopicInPython\"\n",
    "match_obj = inserting_space(test_string)\n",
    "print(match_obj)"
   ]
  },
  {
   "cell_type": "code",
   "execution_count": 29,
   "id": "62308b7c",
   "metadata": {},
   "outputs": [
    {
     "name": "stdout",
     "output_type": "stream",
     "text": [
      "Regular Expression\n"
     ]
    }
   ],
   "source": [
    "#Question 24\n",
    "'''Python regex to find sequences of one upper case letter followed by lower case letters'''\n",
    "target_string = \"Regular Expression is an important topic in Python\"\n",
    "result = re.search(r'^R.*ion',target_string)\n",
    "print(result.group())"
   ]
  },
  {
   "cell_type": "code",
   "execution_count": 36,
   "id": "5b7cf7b8",
   "metadata": {},
   "outputs": [
    {
     "name": "stdout",
     "output_type": "stream",
     "text": [
      "Regular Expression is an important topic in Python\n"
     ]
    }
   ],
   "source": [
    "#Question 25\n",
    "'''Write a Python program to remove continuous duplicate words from Sentence using Regular Expression.'''\n",
    "string_2 = \"Regular Expression is is an an important topic topic in Python\"\n",
    "pattern = r'\\b(\\w+)(?:\\W+\\1\\b)+'\n",
    "result= re.sub(pattern,r'\\1',string_2)\n",
    "print(result)"
   ]
  },
  {
   "cell_type": "code",
   "execution_count": 45,
   "id": "f53e4e58",
   "metadata": {},
   "outputs": [
    {
     "name": "stdout",
     "output_type": "stream",
     "text": [
      "aBcDeFgH9J ends with alphanumeric: True\n",
      "AaBb1C2zZ9 ends with alphanumeric: True\n",
      "GooDBye! ends with alphanumeric: False\n"
     ]
    }
   ],
   "source": [
    "#Question 26\n",
    "'''Write a python program using RegEx to accept string ending with alphanumeric character.'''\n",
    "def alphanumeric_char(string):\n",
    "    pattern = r'\\w$'\n",
    "    return bool(re.search(pattern,string)) #if a match is found it returns a match object,which is coverted to a boolean\n",
    "string_1 = \"aBcDeFgH9J\"\n",
    "string_2 = \"AaBb1C2zZ9\"\n",
    "string_3 = \"GooDBye!\"\n",
    "result1 = alphanumeric_char(string_1)\n",
    "result2 = alphanumeric_char(string_2)\n",
    "result3 = alphanumeric_char(string_3)\n",
    "print(f\"{string_1} ends with alphanumeric: {result1}\")\n",
    "print(f\"{string_2} ends with alphanumeric: {result2}\")\n",
    "print(f\"{string_3} ends with alphanumeric: {result3}\")"
   ]
  },
  {
   "cell_type": "code",
   "execution_count": 58,
   "id": "a891fd08",
   "metadata": {},
   "outputs": [
    {
     "name": "stdout",
     "output_type": "stream",
     "text": [
      "['Doltiwal', 'xyzabc', 'Demonetization']\n"
     ]
    }
   ],
   "source": [
    "#Question 27\n",
    "'''Write a python program using RegEx to extract the hashtags.'''\n",
    "test_string =\"\"\"RT @kapil_kausik: #Doltiwal I mean #xyzabc is \"hurt\" by #Demonetization as the same has rendered USELESS \n",
    "<ed><U+00A0><U+00BD><ed><U+00B1><U+0089> \"acquired funds\" No wo\"\"\"\n",
    "pattern = \"\\#(\\w+)\"\n",
    "res = re.findall(pattern,test_string)\n",
    "print(res)"
   ]
  },
  {
   "cell_type": "code",
   "execution_count": 61,
   "id": "cda0661d",
   "metadata": {},
   "outputs": [
    {
     "name": "stdout",
     "output_type": "stream",
     "text": [
      "@Jags123456 Bharat band on 28??<ed><ed> Those who  are protesting #demonetization  are all different party leaders\n"
     ]
    }
   ],
   "source": [
    "#Question 28\n",
    "'''Write a python program using RegEx to remove <U+..> like symbols.'''\n",
    "test1_string= \"@Jags123456 Bharat band on 28??<ed><U+00A0><U+00BD><ed><U+00B8><U+0082> Those who  are protesting #demonetization  are all different party leaders\"\n",
    "pattern = r\"<U\\+\\w+>\"\n",
    "result = re.sub(pattern,\"\",test1_string)\n",
    "print(result)"
   ]
  },
  {
   "cell_type": "code",
   "execution_count": 64,
   "id": "e0df22ce",
   "metadata": {},
   "outputs": [
    {
     "name": "stdout",
     "output_type": "stream",
     "text": [
      "['12-09-1992', '15-12-1999']\n"
     ]
    }
   ],
   "source": [
    "#Question 29\n",
    "'''Write a python program to extract dates from the text stored in the text file.'''\n",
    "with open(\"C:/Users/user/Documents/Sample Text 24.txt\") as file:\n",
    "    for line in file:\n",
    "        dates = re.findall(r'\\b\\d{2}-\\d{2}-\\d{4}\\b',line)\n",
    "        print(dates)"
   ]
  },
  {
   "cell_type": "code",
   "execution_count": 68,
   "id": "49b17762",
   "metadata": {},
   "outputs": [
    {
     "name": "stdout",
     "output_type": "stream",
     "text": [
      " following example creates  ArrayList  a capacity   elements. 4 elements   added   ArrayList   ArrayList  trimmed accordingly.\n"
     ]
    }
   ],
   "source": [
    "#Question 30\n",
    "'''Create a function in python to remove all words from a string of length between 2 and 4.\n",
    "The use of the re.compile() method is mandatory.'''\n",
    "def remove_words(test2_string):\n",
    "    pattern = re.compile(r'\\b\\w{2,4}\\b')\n",
    "    string_3 = re.sub(pattern,'',test2_string)\n",
    "    return string_3\n",
    "test2_string = \"The following example creates an ArrayList with a capacity of 50 elements. 4 elements are then added to the ArrayList and the ArrayList is trimmed accordingly.\"\n",
    "result = remove_words(test2_string)\n",
    "print(result)"
   ]
  }
 ],
 "metadata": {
  "kernelspec": {
   "display_name": "Python 3 (ipykernel)",
   "language": "python",
   "name": "python3"
  },
  "language_info": {
   "codemirror_mode": {
    "name": "ipython",
    "version": 3
   },
   "file_extension": ".py",
   "mimetype": "text/x-python",
   "name": "python",
   "nbconvert_exporter": "python",
   "pygments_lexer": "ipython3",
   "version": "3.10.9"
  }
 },
 "nbformat": 4,
 "nbformat_minor": 5
}
