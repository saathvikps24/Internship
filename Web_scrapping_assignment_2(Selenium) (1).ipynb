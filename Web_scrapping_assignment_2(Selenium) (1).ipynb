{
 "cells": [
  {
   "cell_type": "markdown",
   "id": "fa0d6e75",
   "metadata": {},
   "source": [
    "# WEB SCRAPING ASSIGNMENT 2(SELENIUM)"
   ]
  },
  {
   "cell_type": "code",
   "execution_count": 1,
   "id": "1191d7cd",
   "metadata": {},
   "outputs": [
    {
     "name": "stdout",
     "output_type": "stream",
     "text": [
      "Requirement already satisfied: selenium in c:\\users\\user\\anaconda3\\lib\\site-packages (4.14.0)\n",
      "Requirement already satisfied: urllib3[socks]<3,>=1.26 in c:\\users\\user\\anaconda3\\lib\\site-packages (from selenium) (1.26.14)\n",
      "Requirement already satisfied: trio-websocket~=0.9 in c:\\users\\user\\anaconda3\\lib\\site-packages (from selenium) (0.11.1)\n",
      "Requirement already satisfied: certifi>=2021.10.8 in c:\\users\\user\\anaconda3\\lib\\site-packages (from selenium) (2022.12.7)\n",
      "Requirement already satisfied: trio~=0.17 in c:\\users\\user\\anaconda3\\lib\\site-packages (from selenium) (0.22.2)\n",
      "Requirement already satisfied: idna in c:\\users\\user\\anaconda3\\lib\\site-packages (from trio~=0.17->selenium) (3.4)\n",
      "Requirement already satisfied: outcome in c:\\users\\user\\anaconda3\\lib\\site-packages (from trio~=0.17->selenium) (1.3.0.post0)\n",
      "Requirement already satisfied: exceptiongroup>=1.0.0rc9 in c:\\users\\user\\anaconda3\\lib\\site-packages (from trio~=0.17->selenium) (1.1.3)\n",
      "Requirement already satisfied: cffi>=1.14 in c:\\users\\user\\anaconda3\\lib\\site-packages (from trio~=0.17->selenium) (1.15.1)\n",
      "Requirement already satisfied: sniffio in c:\\users\\user\\anaconda3\\lib\\site-packages (from trio~=0.17->selenium) (1.2.0)\n",
      "Requirement already satisfied: sortedcontainers in c:\\users\\user\\anaconda3\\lib\\site-packages (from trio~=0.17->selenium) (2.4.0)\n",
      "Requirement already satisfied: attrs>=20.1.0 in c:\\users\\user\\anaconda3\\lib\\site-packages (from trio~=0.17->selenium) (22.1.0)\n",
      "Requirement already satisfied: wsproto>=0.14 in c:\\users\\user\\anaconda3\\lib\\site-packages (from trio-websocket~=0.9->selenium) (1.2.0)\n",
      "Requirement already satisfied: PySocks!=1.5.7,<2.0,>=1.5.6 in c:\\users\\user\\anaconda3\\lib\\site-packages (from urllib3[socks]<3,>=1.26->selenium) (1.7.1)\n",
      "Requirement already satisfied: pycparser in c:\\users\\user\\anaconda3\\lib\\site-packages (from cffi>=1.14->trio~=0.17->selenium) (2.21)\n",
      "Requirement already satisfied: h11<1,>=0.9.0 in c:\\users\\user\\anaconda3\\lib\\site-packages (from wsproto>=0.14->trio-websocket~=0.9->selenium) (0.14.0)\n"
     ]
    }
   ],
   "source": [
    "!pip install selenium"
   ]
  },
  {
   "cell_type": "markdown",
   "id": "6535daf2",
   "metadata": {},
   "source": [
    "QUESTION 1"
   ]
  },
  {
   "cell_type": "code",
   "execution_count": 9,
   "id": "b8fa48f9",
   "metadata": {},
   "outputs": [],
   "source": [
    "'''Write a python program to scrape data for “Data Analyst” Job position in “Bangalore” location. You\n",
    "have to scrape the job-title, job-location, company_name, experience_required. You have to scrape first 10\n",
    "jobs data.\n",
    "This task will be done in following steps:\n",
    "1. First get the webpage https://www.shine.com/\n",
    "2. Enter “Data Analyst” in “Job title, Skills” field and enter “Bangalore” in “enter the location” field.\n",
    "3. Then click the searchbutton.\n",
    "4. Then scrape the data for the first 10 jobs results you get.\n",
    "5. Finally create a dataframe of the scraped data.'''\n",
    "import selenium\n",
    "from selenium import webdriver\n",
    "import pandas as pd\n",
    "from selenium.webdriver.common.by import By\n",
    "import warnings\n",
    "warnings.filterwarnings(\"ignore\")\n",
    "import time"
   ]
  },
  {
   "cell_type": "code",
   "execution_count": 73,
   "id": "db843d1a",
   "metadata": {},
   "outputs": [],
   "source": [
    "driver = webdriver.Chrome()"
   ]
  },
  {
   "cell_type": "code",
   "execution_count": 74,
   "id": "b2f04f58",
   "metadata": {},
   "outputs": [],
   "source": [
    "#opening the web page on automated chrome browser\n",
    "driver.get(\"https://www.shine.com/\")"
   ]
  },
  {
   "cell_type": "code",
   "execution_count": 75,
   "id": "61581171",
   "metadata": {},
   "outputs": [],
   "source": [
    "#entering the designation\n",
    "designation=driver.find_element(By.CLASS_NAME,\"searchBarInput\")\n",
    "designation.send_keys('Data Analyst')"
   ]
  },
  {
   "cell_type": "code",
   "execution_count": 76,
   "id": "114b916a",
   "metadata": {},
   "outputs": [],
   "source": [
    "search = driver.find_element(By.CLASS_NAME,\"SearchBarRight\")\n",
    "search.click()"
   ]
  },
  {
   "cell_type": "code",
   "execution_count": 77,
   "id": "e62061b4",
   "metadata": {},
   "outputs": [],
   "source": [
    "designation1 = driver.find_element(By.CLASS_NAME,\"form-control  \")\n",
    "designation1.send_keys('Data Analyst')"
   ]
  },
  {
   "cell_type": "code",
   "execution_count": 78,
   "id": "dc79e90c",
   "metadata": {},
   "outputs": [],
   "source": [
    "designation2 = driver.find_element(By.XPATH,\"/html/body/div/div[4]/div/div[2]/div[2]/div/form/div/div[1]/ul/li[2]/div/input\")\n",
    "designation2.send_keys('Bangalore')"
   ]
  },
  {
   "cell_type": "code",
   "execution_count": 79,
   "id": "c36d53ff",
   "metadata": {},
   "outputs": [],
   "source": [
    "search2 = driver.find_element(By.XPATH,\"/html/body/div/div[4]/div/div[2]/div[2]/div/form/div/div[2]/div/button\")\n",
    "search2.click()"
   ]
  },
  {
   "cell_type": "code",
   "execution_count": 80,
   "id": "edb01946",
   "metadata": {},
   "outputs": [],
   "source": [
    "job_title = []\n",
    "job_location = []\n",
    "company_name = []\n",
    "experience_required = []"
   ]
  },
  {
   "cell_type": "code",
   "execution_count": 81,
   "id": "5650058f",
   "metadata": {},
   "outputs": [],
   "source": [
    "title_tags = driver.find_elements(By.XPATH,'//h2[@itemprop=\"name\"]/a')\n",
    "for i in title_tags:\n",
    "    title = i.text\n",
    "    job_title.append(title)"
   ]
  },
  {
   "cell_type": "code",
   "execution_count": 105,
   "id": "7f48dc0d",
   "metadata": {},
   "outputs": [],
   "source": [
    "location_tags = driver.find_elements(By.XPATH,'//div[@class=\" jobCard_jobCard_lists_item__YxRkV jobCard_locationIcon__zrWt2\"]')\n",
    "for i in location_tags:\n",
    "    location = i.text\n",
    "    job_location.append(location) "
   ]
  },
  {
   "cell_type": "code",
   "execution_count": 106,
   "id": "486afefa",
   "metadata": {},
   "outputs": [],
   "source": [
    "company_tags = driver.find_elements(By.XPATH,'//div[@class=\"jobCard_jobCard_cName__mYnow\"]')\n",
    "for i in company_tags:\n",
    "    company = i.text\n",
    "    company_name.append(company)"
   ]
  },
  {
   "cell_type": "code",
   "execution_count": 107,
   "id": "2ff1de47",
   "metadata": {},
   "outputs": [],
   "source": [
    "experience_tags = driver.find_elements(By.XPATH,'//div[@class=\" jobCard_jobCard_lists_item__YxRkV jobCard_jobIcon__3FB1t\"]')\n",
    "for i in experience_tags:\n",
    "    experience = i.text\n",
    "    experience_required.append(experience)"
   ]
  },
  {
   "cell_type": "code",
   "execution_count": 108,
   "id": "4f9e2119",
   "metadata": {},
   "outputs": [],
   "source": [
    "j_t = job_title[:10]\n",
    "j_l = job_location[:10]\n",
    "c_t = company_name[:10]\n",
    "e_t = experience_required[:10]"
   ]
  },
  {
   "cell_type": "code",
   "execution_count": 109,
   "id": "dc3f763b",
   "metadata": {},
   "outputs": [
    {
     "data": {
      "text/html": [
       "<div>\n",
       "<style scoped>\n",
       "    .dataframe tbody tr th:only-of-type {\n",
       "        vertical-align: middle;\n",
       "    }\n",
       "\n",
       "    .dataframe tbody tr th {\n",
       "        vertical-align: top;\n",
       "    }\n",
       "\n",
       "    .dataframe thead th {\n",
       "        text-align: right;\n",
       "    }\n",
       "</style>\n",
       "<table border=\"1\" class=\"dataframe\">\n",
       "  <thead>\n",
       "    <tr style=\"text-align: right;\">\n",
       "      <th></th>\n",
       "      <th>Title</th>\n",
       "      <th>Location</th>\n",
       "      <th>Company_Name</th>\n",
       "      <th>Experience_required</th>\n",
       "    </tr>\n",
       "  </thead>\n",
       "  <tbody>\n",
       "    <tr>\n",
       "      <th>0</th>\n",
       "      <td>Data Analyst Vacancy</td>\n",
       "      <td>Bangalore\\n+14</td>\n",
       "      <td>divya interprises</td>\n",
       "      <td>0 to 4 Yrs</td>\n",
       "    </tr>\n",
       "    <tr>\n",
       "      <th>1</th>\n",
       "      <td>Data Analyst Vacancy</td>\n",
       "      <td>Bangalore\\n+14</td>\n",
       "      <td>divya interprises</td>\n",
       "      <td>0 to 4 Yrs</td>\n",
       "    </tr>\n",
       "    <tr>\n",
       "      <th>2</th>\n",
       "      <td>Clinical Data Analyst</td>\n",
       "      <td>Bangalore\\n+4</td>\n",
       "      <td>quiscon biotech</td>\n",
       "      <td>0 to 2 Yrs</td>\n",
       "    </tr>\n",
       "    <tr>\n",
       "      <th>3</th>\n",
       "      <td>Data Analyst Urgent Recruitment</td>\n",
       "      <td>Bangalore\\n+14</td>\n",
       "      <td>divya interprises</td>\n",
       "      <td>0 to 4 Yrs</td>\n",
       "    </tr>\n",
       "    <tr>\n",
       "      <th>4</th>\n",
       "      <td>Data Analyst Urgent Recruitment</td>\n",
       "      <td>Bangalore\\n+14</td>\n",
       "      <td>divya interprises</td>\n",
       "      <td>0 to 4 Yrs</td>\n",
       "    </tr>\n",
       "    <tr>\n",
       "      <th>5</th>\n",
       "      <td>Data Analyst Urgent Recruitment</td>\n",
       "      <td>Bangalore\\n+14</td>\n",
       "      <td>divya interprises</td>\n",
       "      <td>0 to 4 Yrs</td>\n",
       "    </tr>\n",
       "    <tr>\n",
       "      <th>6</th>\n",
       "      <td>Data Analyst 1</td>\n",
       "      <td>Bangalore</td>\n",
       "      <td>merck ltd</td>\n",
       "      <td>1 to 3 Yrs</td>\n",
       "    </tr>\n",
       "    <tr>\n",
       "      <th>7</th>\n",
       "      <td>Clinical Data Analyst</td>\n",
       "      <td>Bangalore\\n+6</td>\n",
       "      <td>techno endura</td>\n",
       "      <td>0 to 1 Yr</td>\n",
       "    </tr>\n",
       "    <tr>\n",
       "      <th>8</th>\n",
       "      <td>Hiring For Data Analyst</td>\n",
       "      <td>Bangalore\\n+14</td>\n",
       "      <td>divya interprises</td>\n",
       "      <td>0 to 4 Yrs</td>\n",
       "    </tr>\n",
       "    <tr>\n",
       "      <th>9</th>\n",
       "      <td>Data Analyst</td>\n",
       "      <td>Bangalore\\n+9</td>\n",
       "      <td>v-tech data outsourcing</td>\n",
       "      <td>0 to 2 Yrs</td>\n",
       "    </tr>\n",
       "  </tbody>\n",
       "</table>\n",
       "</div>"
      ],
      "text/plain": [
       "                             Title        Location             Company_Name  \\\n",
       "0             Data Analyst Vacancy  Bangalore\\n+14        divya interprises   \n",
       "1             Data Analyst Vacancy  Bangalore\\n+14        divya interprises   \n",
       "2            Clinical Data Analyst   Bangalore\\n+4          quiscon biotech   \n",
       "3  Data Analyst Urgent Recruitment  Bangalore\\n+14        divya interprises   \n",
       "4  Data Analyst Urgent Recruitment  Bangalore\\n+14        divya interprises   \n",
       "5  Data Analyst Urgent Recruitment  Bangalore\\n+14        divya interprises   \n",
       "6                   Data Analyst 1       Bangalore                merck ltd   \n",
       "7            Clinical Data Analyst   Bangalore\\n+6            techno endura   \n",
       "8          Hiring For Data Analyst  Bangalore\\n+14        divya interprises   \n",
       "9                     Data Analyst   Bangalore\\n+9  v-tech data outsourcing   \n",
       "\n",
       "  Experience_required  \n",
       "0          0 to 4 Yrs  \n",
       "1          0 to 4 Yrs  \n",
       "2          0 to 2 Yrs  \n",
       "3          0 to 4 Yrs  \n",
       "4          0 to 4 Yrs  \n",
       "5          0 to 4 Yrs  \n",
       "6          1 to 3 Yrs  \n",
       "7           0 to 1 Yr  \n",
       "8          0 to 4 Yrs  \n",
       "9          0 to 2 Yrs  "
      ]
     },
     "execution_count": 109,
     "metadata": {},
     "output_type": "execute_result"
    }
   ],
   "source": [
    "import pandas as pd\n",
    "df = pd.DataFrame({'Title':j_t,'Location':j_l,'Company_Name':c_t,'Experience_required':e_t})\n",
    "df"
   ]
  },
  {
   "cell_type": "markdown",
   "id": "7c972ec5",
   "metadata": {},
   "source": [
    "QUESTION 2"
   ]
  },
  {
   "cell_type": "code",
   "execution_count": 118,
   "id": "3361ceaf",
   "metadata": {},
   "outputs": [],
   "source": [
    "'''Write a python program to scrape data for “Data Scientist” Job position in“Bangalore” location. You\n",
    "have to scrape the job-title, job-location, company_name. You have to scrape first 10 jobs data.\n",
    "This task will be done in following steps:\n",
    "1. First get the webpage https://www.shine.com/\n",
    "2. Enter “Data Scientist” in “Job title, Skills” field and enter “Bangalore” in “enter thelocation” field.\n",
    "3. Then click the search button.\n",
    "4. Then scrape the data for the first 10 jobs results you get.\n",
    "5. Finally create a dataframe of the scraped data.'''\n",
    "import selenium\n",
    "from selenium import webdriver\n",
    "import pandas as pd\n",
    "from selenium.webdriver.common.by import By\n",
    "import warnings\n",
    "warnings.filterwarnings(\"ignore\")\n",
    "import time"
   ]
  },
  {
   "cell_type": "code",
   "execution_count": 119,
   "id": "ac1af564",
   "metadata": {},
   "outputs": [],
   "source": [
    "driver = webdriver.Chrome()"
   ]
  },
  {
   "cell_type": "code",
   "execution_count": 120,
   "id": "ce432198",
   "metadata": {},
   "outputs": [],
   "source": [
    "#opening the web page on automated chrome browser\n",
    "driver.get(\"https://www.shine.com/\")"
   ]
  },
  {
   "cell_type": "code",
   "execution_count": 122,
   "id": "dee4a135",
   "metadata": {},
   "outputs": [],
   "source": [
    "#entering the designation\n",
    "de1=driver.find_element(By.CLASS_NAME,\"searchBarInput\")\n",
    "de1.send_keys('Data Scientist')"
   ]
  },
  {
   "cell_type": "code",
   "execution_count": 123,
   "id": "dfaeadad",
   "metadata": {},
   "outputs": [],
   "source": [
    "search = driver.find_element(By.CLASS_NAME,\"SearchBarRight\")\n",
    "search.click()"
   ]
  },
  {
   "cell_type": "code",
   "execution_count": 124,
   "id": "b30420fd",
   "metadata": {},
   "outputs": [],
   "source": [
    "designation1 = driver.find_element(By.CLASS_NAME,\"form-control  \")\n",
    "designation1.send_keys('Data Scientist')"
   ]
  },
  {
   "cell_type": "code",
   "execution_count": 125,
   "id": "4ff6ca2a",
   "metadata": {},
   "outputs": [],
   "source": [
    "designation2 = driver.find_element(By.XPATH,\"/html/body/div/div[4]/div/div[2]/div[2]/div/form/div/div[1]/ul/li[2]/div/input\")\n",
    "designation2.send_keys('Bangalore')"
   ]
  },
  {
   "cell_type": "code",
   "execution_count": 126,
   "id": "601d88f6",
   "metadata": {},
   "outputs": [],
   "source": [
    "search2 = driver.find_element(By.XPATH,\"/html/body/div/div[4]/div/div[2]/div[2]/div/form/div/div[2]/div/button\")\n",
    "search2.click()"
   ]
  },
  {
   "cell_type": "code",
   "execution_count": 128,
   "id": "df302bb7",
   "metadata": {},
   "outputs": [],
   "source": [
    "job_title = []\n",
    "job_location = []\n",
    "company_name = []"
   ]
  },
  {
   "cell_type": "code",
   "execution_count": 129,
   "id": "8aa3d21b",
   "metadata": {},
   "outputs": [],
   "source": [
    "title_tags = driver.find_elements(By.XPATH,'//h2[@itemprop=\"name\"]/a')\n",
    "for i in title_tags:\n",
    "    title = i.text\n",
    "    job_title.append(title)"
   ]
  },
  {
   "cell_type": "code",
   "execution_count": 130,
   "id": "045d646b",
   "metadata": {},
   "outputs": [],
   "source": [
    "location_tags = driver.find_elements(By.XPATH,'//div[@class=\" jobCard_jobCard_lists_item__YxRkV jobCard_locationIcon__zrWt2\"]')\n",
    "for i in location_tags:\n",
    "    location = i.text\n",
    "    job_location.append(location) "
   ]
  },
  {
   "cell_type": "code",
   "execution_count": 131,
   "id": "3d7c08a5",
   "metadata": {},
   "outputs": [],
   "source": [
    "company_tags = driver.find_elements(By.XPATH,'//div[@class=\"jobCard_jobCard_cName__mYnow\"]')\n",
    "for i in company_tags:\n",
    "    company = i.text\n",
    "    company_name.append(company)"
   ]
  },
  {
   "cell_type": "code",
   "execution_count": 132,
   "id": "6c838556",
   "metadata": {},
   "outputs": [],
   "source": [
    "j_t1 = job_title[:10]\n",
    "j_l1 = job_location[:10]\n",
    "c_t1 = company_name[:10]"
   ]
  },
  {
   "cell_type": "code",
   "execution_count": 133,
   "id": "c8c2b23a",
   "metadata": {},
   "outputs": [
    {
     "data": {
      "text/html": [
       "<div>\n",
       "<style scoped>\n",
       "    .dataframe tbody tr th:only-of-type {\n",
       "        vertical-align: middle;\n",
       "    }\n",
       "\n",
       "    .dataframe tbody tr th {\n",
       "        vertical-align: top;\n",
       "    }\n",
       "\n",
       "    .dataframe thead th {\n",
       "        text-align: right;\n",
       "    }\n",
       "</style>\n",
       "<table border=\"1\" class=\"dataframe\">\n",
       "  <thead>\n",
       "    <tr style=\"text-align: right;\">\n",
       "      <th></th>\n",
       "      <th>Title</th>\n",
       "      <th>Location</th>\n",
       "      <th>Company_Name</th>\n",
       "    </tr>\n",
       "  </thead>\n",
       "  <tbody>\n",
       "    <tr>\n",
       "      <th>0</th>\n",
       "      <td>Data Scientist Vacancy</td>\n",
       "      <td>Bangalore\\n+14</td>\n",
       "      <td>divya interprises</td>\n",
       "    </tr>\n",
       "    <tr>\n",
       "      <th>1</th>\n",
       "      <td>Data Scientist Urgent Recruitment</td>\n",
       "      <td>Bangalore\\n+14</td>\n",
       "      <td>divya interprises</td>\n",
       "    </tr>\n",
       "    <tr>\n",
       "      <th>2</th>\n",
       "      <td>Data Scientist- Bangalore</td>\n",
       "      <td>Bangalore</td>\n",
       "      <td>the fashion cosmo</td>\n",
       "    </tr>\n",
       "    <tr>\n",
       "      <th>3</th>\n",
       "      <td>Data Scientist AI ML CV</td>\n",
       "      <td>Bangalore</td>\n",
       "      <td>bosch group</td>\n",
       "    </tr>\n",
       "    <tr>\n",
       "      <th>4</th>\n",
       "      <td>Data Scientist AI ML NLP</td>\n",
       "      <td>Bangalore</td>\n",
       "      <td>bosch group</td>\n",
       "    </tr>\n",
       "    <tr>\n",
       "      <th>5</th>\n",
       "      <td>Phd Data Scientist</td>\n",
       "      <td>Bangalore</td>\n",
       "      <td>bosch group</td>\n",
       "    </tr>\n",
       "    <tr>\n",
       "      <th>6</th>\n",
       "      <td>Data Scientist-Bangalore</td>\n",
       "      <td>Bangalore</td>\n",
       "      <td>shiva hr services</td>\n",
       "    </tr>\n",
       "    <tr>\n",
       "      <th>7</th>\n",
       "      <td>Hiring For Data Scientist</td>\n",
       "      <td>Bangalore\\n+14</td>\n",
       "      <td>divya interprises</td>\n",
       "    </tr>\n",
       "    <tr>\n",
       "      <th>8</th>\n",
       "      <td>Data Scientist</td>\n",
       "      <td>Bangalore</td>\n",
       "      <td>racanaa energy solution private lim...</td>\n",
       "    </tr>\n",
       "    <tr>\n",
       "      <th>9</th>\n",
       "      <td>Staff Data Scientist &amp; Team Lead</td>\n",
       "      <td>Bangalore</td>\n",
       "      <td>true caller</td>\n",
       "    </tr>\n",
       "  </tbody>\n",
       "</table>\n",
       "</div>"
      ],
      "text/plain": [
       "                               Title        Location  \\\n",
       "0             Data Scientist Vacancy  Bangalore\\n+14   \n",
       "1  Data Scientist Urgent Recruitment  Bangalore\\n+14   \n",
       "2          Data Scientist- Bangalore       Bangalore   \n",
       "3            Data Scientist AI ML CV       Bangalore   \n",
       "4           Data Scientist AI ML NLP       Bangalore   \n",
       "5                 Phd Data Scientist       Bangalore   \n",
       "6           Data Scientist-Bangalore       Bangalore   \n",
       "7          Hiring For Data Scientist  Bangalore\\n+14   \n",
       "8                     Data Scientist       Bangalore   \n",
       "9   Staff Data Scientist & Team Lead       Bangalore   \n",
       "\n",
       "                             Company_Name  \n",
       "0                       divya interprises  \n",
       "1                       divya interprises  \n",
       "2                       the fashion cosmo  \n",
       "3                             bosch group  \n",
       "4                             bosch group  \n",
       "5                             bosch group  \n",
       "6                       shiva hr services  \n",
       "7                       divya interprises  \n",
       "8  racanaa energy solution private lim...  \n",
       "9                             true caller  "
      ]
     },
     "execution_count": 133,
     "metadata": {},
     "output_type": "execute_result"
    }
   ],
   "source": [
    "import pandas as pd\n",
    "df = pd.DataFrame({'Title':j_t1,'Location':j_l1,'Company_Name':c_t1})\n",
    "df"
   ]
  },
  {
   "cell_type": "markdown",
   "id": "dd8a1115",
   "metadata": {},
   "source": [
    "QUESTION 3"
   ]
  },
  {
   "cell_type": "code",
   "execution_count": 1,
   "id": "e3fc2f2d",
   "metadata": {},
   "outputs": [],
   "source": [
    "'''In this question you have to scrape data using the filters available on the webpage \n",
    "You have to use the location and salary filter.\n",
    "You have to scrape data for “Data Scientist” designation for first 10 job results.\n",
    "You have to scrape the job-title, job-location, company name, experience required.\n",
    "The location filter to be used is “Delhi/NCR”. The salary filter to be used is “3-6” lakhs\n",
    "The task will be done as shown in the below steps:\n",
    "1. first get the web page https://www.shine.com/\n",
    "2. Enter “Data Scientist” in “Skill, Designations, and Companies” field.\n",
    "3. Then click the search button.\n",
    "4. Then apply the location filter and salary filter by checking the respective boxes\n",
    "5. Then scrape the data for the first 10 jobs results you get.\n",
    "6. Finally create a dataframe of the scrapeddata.'''\n",
    "import selenium\n",
    "from selenium import webdriver\n",
    "import pandas as pd\n",
    "from selenium.webdriver.common.by import By\n",
    "import warnings\n",
    "warnings.filterwarnings(\"ignore\")\n",
    "import time"
   ]
  },
  {
   "cell_type": "code",
   "execution_count": 11,
   "id": "d80239c0",
   "metadata": {},
   "outputs": [],
   "source": [
    "driver = webdriver.Chrome()"
   ]
  },
  {
   "cell_type": "code",
   "execution_count": 12,
   "id": "4d5325e1",
   "metadata": {},
   "outputs": [],
   "source": [
    "#opening the web page on automated chrome browser\n",
    "driver.get(\"https://www.shine.com/\")"
   ]
  },
  {
   "cell_type": "code",
   "execution_count": 13,
   "id": "0d2ce1f3",
   "metadata": {},
   "outputs": [],
   "source": [
    "de2=driver.find_element(By.CLASS_NAME,\"searchBarInput\")\n",
    "de2.send_keys('Data Scientist')"
   ]
  },
  {
   "cell_type": "code",
   "execution_count": 14,
   "id": "94702d4f",
   "metadata": {},
   "outputs": [],
   "source": [
    "search = driver.find_element(By.CLASS_NAME,\"SearchBarRight\")\n",
    "search.click()"
   ]
  },
  {
   "cell_type": "code",
   "execution_count": 15,
   "id": "94d24419",
   "metadata": {},
   "outputs": [],
   "source": [
    "designation2 = driver.find_element(By.CLASS_NAME,\"form-control  \")\n",
    "designation2.send_keys('Data Scientist')"
   ]
  },
  {
   "cell_type": "code",
   "execution_count": 16,
   "id": "6fa94424",
   "metadata": {},
   "outputs": [],
   "source": [
    "search2 = driver.find_element(By.XPATH,\"/html/body/div/div[4]/div/div[2]/div[2]/div/form/div/div[2]/div/button\")\n",
    "search2.click()"
   ]
  },
  {
   "cell_type": "code",
   "execution_count": 22,
   "id": "13bbed10",
   "metadata": {},
   "outputs": [],
   "source": [
    "search3 = driver.find_element(By.XPATH,\"/html/body/div[1]/div[1]/div[3]/div/div[1]/div/div[2]/div/ul/li[1]/button\")\n",
    "search3.click()"
   ]
  },
  {
   "cell_type": "code",
   "execution_count": 23,
   "id": "c0bf53b7",
   "metadata": {},
   "outputs": [],
   "source": [
    "designation3 = driver.find_element(By.CLASS_NAME,\"form-control\")\n",
    "designation3.send_keys('Delhi')"
   ]
  },
  {
   "cell_type": "code",
   "execution_count": 27,
   "id": "8f4516ee",
   "metadata": {},
   "outputs": [],
   "source": [
    "search4 = driver.find_element(By.CLASS_NAME,\"filter_filter_option_item__bvdpQ\")\n",
    "search4.click()"
   ]
  },
  {
   "cell_type": "code",
   "execution_count": 28,
   "id": "571b835f",
   "metadata": {},
   "outputs": [],
   "source": [
    "search5 = driver.find_element(By.XPATH,\"/html/body/div[1]/div[1]/div[3]/div/div[1]/div/div[2]/div[2]/div/div/div/div[4]/button[2]\")\n",
    "search5.click()"
   ]
  },
  {
   "cell_type": "code",
   "execution_count": 32,
   "id": "10be2260",
   "metadata": {},
   "outputs": [],
   "source": [
    "search6 = driver.find_element(By.XPATH,\"/html/body/div[1]/div[1]/div[3]/div/div[1]/div/div[2]/div/ul/li[3]/button\")\n",
    "search6.click()"
   ]
  },
  {
   "cell_type": "code",
   "execution_count": 33,
   "id": "47e4dfe1",
   "metadata": {},
   "outputs": [],
   "source": [
    "designation4 = driver.find_element(By.CLASS_NAME,\"form-control\")\n",
    "designation4.send_keys('3 to 5 Lakh')"
   ]
  },
  {
   "cell_type": "code",
   "execution_count": 34,
   "id": "c3dd7166",
   "metadata": {},
   "outputs": [],
   "source": [
    "search7 = driver.find_element(By.XPATH,\"/html/body/div[1]/div[1]/div[3]/div/div[1]/div/div[2]/div[2]/div/div/div/div[3]/div/div/div/ul/li[2]\")\n",
    "search7.click()"
   ]
  },
  {
   "cell_type": "code",
   "execution_count": 35,
   "id": "396c0dae",
   "metadata": {},
   "outputs": [],
   "source": [
    "search8 = driver.find_element(By.XPATH,\"/html/body/div[1]/div[1]/div[3]/div/div[1]/div/div[2]/div[2]/div/div/div/div[4]/button[2]\")\n",
    "search8.click()"
   ]
  },
  {
   "cell_type": "code",
   "execution_count": 36,
   "id": "fd49ef73",
   "metadata": {},
   "outputs": [],
   "source": [
    "job_title = []\n",
    "job_location = []\n",
    "company_name = []\n",
    "experience_required = []"
   ]
  },
  {
   "cell_type": "code",
   "execution_count": 37,
   "id": "d59f799f",
   "metadata": {},
   "outputs": [],
   "source": [
    "title_tags = driver.find_elements(By.XPATH,'//h2[@itemprop=\"name\"]/a')\n",
    "for i in title_tags:\n",
    "    title = i.text\n",
    "    job_title.append(title)"
   ]
  },
  {
   "cell_type": "code",
   "execution_count": 38,
   "id": "414137aa",
   "metadata": {},
   "outputs": [],
   "source": [
    "location_tags = driver.find_elements(By.XPATH,'//div[@class=\" jobCard_jobCard_lists_item__YxRkV jobCard_locationIcon__zrWt2\"]')\n",
    "for i in location_tags:\n",
    "    location = i.text\n",
    "    job_location.append(location) "
   ]
  },
  {
   "cell_type": "code",
   "execution_count": 39,
   "id": "7a4608a1",
   "metadata": {},
   "outputs": [],
   "source": [
    "company_tags = driver.find_elements(By.XPATH,'//div[@class=\"jobCard_jobCard_cName__mYnow\"]/span')\n",
    "for i in company_tags:\n",
    "    company = i.text\n",
    "    company_name.append(company)"
   ]
  },
  {
   "cell_type": "code",
   "execution_count": 40,
   "id": "4b3bd052",
   "metadata": {},
   "outputs": [],
   "source": [
    "experience_tags = driver.find_elements(By.XPATH,'//div[@class=\" jobCard_jobCard_lists_item__YxRkV jobCard_jobIcon__3FB1t\"]')\n",
    "for i in experience_tags:\n",
    "    experience = i.text\n",
    "    experience_required.append(experience)"
   ]
  },
  {
   "cell_type": "code",
   "execution_count": 41,
   "id": "1877c1c5",
   "metadata": {},
   "outputs": [],
   "source": [
    "j_t3 = job_title[:10]\n",
    "j_l3 = job_location[:10]\n",
    "c_t3 = company_name[:10]\n",
    "e_t3 = experience_required[:10]"
   ]
  },
  {
   "cell_type": "code",
   "execution_count": 42,
   "id": "6dc7e44d",
   "metadata": {},
   "outputs": [
    {
     "data": {
      "text/html": [
       "<div>\n",
       "<style scoped>\n",
       "    .dataframe tbody tr th:only-of-type {\n",
       "        vertical-align: middle;\n",
       "    }\n",
       "\n",
       "    .dataframe tbody tr th {\n",
       "        vertical-align: top;\n",
       "    }\n",
       "\n",
       "    .dataframe thead th {\n",
       "        text-align: right;\n",
       "    }\n",
       "</style>\n",
       "<table border=\"1\" class=\"dataframe\">\n",
       "  <thead>\n",
       "    <tr style=\"text-align: right;\">\n",
       "      <th></th>\n",
       "      <th>Title</th>\n",
       "      <th>Location</th>\n",
       "      <th>Company_Name</th>\n",
       "      <th>Experience_required</th>\n",
       "    </tr>\n",
       "  </thead>\n",
       "  <tbody>\n",
       "    <tr>\n",
       "      <th>0</th>\n",
       "      <td>Data Scientist- Delhi</td>\n",
       "      <td>Delhi</td>\n",
       "      <td>the fashion cosmo</td>\n",
       "      <td>0 to 3 Yrs</td>\n",
       "    </tr>\n",
       "    <tr>\n",
       "      <th>1</th>\n",
       "      <td>Data Scientist-Delhi</td>\n",
       "      <td>Delhi</td>\n",
       "      <td>shiva hr services</td>\n",
       "      <td>0 to 3 Yrs</td>\n",
       "    </tr>\n",
       "    <tr>\n",
       "      <th>2</th>\n",
       "      <td>Data Scientist- Delhi</td>\n",
       "      <td>Delhi</td>\n",
       "      <td>the fashion cosmo</td>\n",
       "      <td>0 to 3 Yrs</td>\n",
       "    </tr>\n",
       "    <tr>\n",
       "      <th>3</th>\n",
       "      <td>Data Scientist- Delhi</td>\n",
       "      <td>Delhi</td>\n",
       "      <td>the fashion cosmo</td>\n",
       "      <td>0 to 3 Yrs</td>\n",
       "    </tr>\n",
       "    <tr>\n",
       "      <th>4</th>\n",
       "      <td>Data Scientist</td>\n",
       "      <td>Delhi\\n+4</td>\n",
       "      <td>acme services private limited</td>\n",
       "      <td>3 to 5 Yrs</td>\n",
       "    </tr>\n",
       "    <tr>\n",
       "      <th>5</th>\n",
       "      <td>Data Scientist</td>\n",
       "      <td>Delhi\\n+6</td>\n",
       "      <td>quiscon biotech</td>\n",
       "      <td>0 to 1 Yr</td>\n",
       "    </tr>\n",
       "    <tr>\n",
       "      <th>6</th>\n",
       "      <td>Clinical Data Analyst</td>\n",
       "      <td>Delhi\\n+6</td>\n",
       "      <td>techno endura</td>\n",
       "      <td>0 to 1 Yr</td>\n",
       "    </tr>\n",
       "    <tr>\n",
       "      <th>7</th>\n",
       "      <td>Data Scientist</td>\n",
       "      <td>Delhi\\n+4</td>\n",
       "      <td>acme services private limited</td>\n",
       "      <td>3 to 5 Yrs</td>\n",
       "    </tr>\n",
       "    <tr>\n",
       "      <th>8</th>\n",
       "      <td>Data Modeler</td>\n",
       "      <td>Delhi\\n+9</td>\n",
       "      <td>v-tech data outsourcing</td>\n",
       "      <td>0 to 2 Yrs</td>\n",
       "    </tr>\n",
       "    <tr>\n",
       "      <th>9</th>\n",
       "      <td>Biostatistician</td>\n",
       "      <td>Delhi\\n+17</td>\n",
       "      <td>national seeds corporation limited</td>\n",
       "      <td>1 to 6 Yrs</td>\n",
       "    </tr>\n",
       "  </tbody>\n",
       "</table>\n",
       "</div>"
      ],
      "text/plain": [
       "                   Title    Location                        Company_Name  \\\n",
       "0  Data Scientist- Delhi       Delhi                   the fashion cosmo   \n",
       "1   Data Scientist-Delhi       Delhi                   shiva hr services   \n",
       "2  Data Scientist- Delhi       Delhi                   the fashion cosmo   \n",
       "3  Data Scientist- Delhi       Delhi                   the fashion cosmo   \n",
       "4         Data Scientist   Delhi\\n+4       acme services private limited   \n",
       "5         Data Scientist   Delhi\\n+6                     quiscon biotech   \n",
       "6  Clinical Data Analyst   Delhi\\n+6                       techno endura   \n",
       "7         Data Scientist   Delhi\\n+4       acme services private limited   \n",
       "8           Data Modeler   Delhi\\n+9             v-tech data outsourcing   \n",
       "9        Biostatistician  Delhi\\n+17  national seeds corporation limited   \n",
       "\n",
       "  Experience_required  \n",
       "0          0 to 3 Yrs  \n",
       "1          0 to 3 Yrs  \n",
       "2          0 to 3 Yrs  \n",
       "3          0 to 3 Yrs  \n",
       "4          3 to 5 Yrs  \n",
       "5           0 to 1 Yr  \n",
       "6           0 to 1 Yr  \n",
       "7          3 to 5 Yrs  \n",
       "8          0 to 2 Yrs  \n",
       "9          1 to 6 Yrs  "
      ]
     },
     "execution_count": 42,
     "metadata": {},
     "output_type": "execute_result"
    }
   ],
   "source": [
    "import pandas as pd\n",
    "df = pd.DataFrame({'Title':j_t3,'Location':j_l3,'Company_Name':c_t3,'Experience_required':e_t3})\n",
    "df"
   ]
  },
  {
   "cell_type": "markdown",
   "id": "ebb8c9d8",
   "metadata": {},
   "source": [
    "QUESTION 4"
   ]
  },
  {
   "cell_type": "code",
   "execution_count": null,
   "id": "6e36af34",
   "metadata": {},
   "outputs": [],
   "source": [
    "'''Scrape data of first 100 sunglasses listings on flipkart.com. You have to scrape four attributes:\n",
    "1. Brand\n",
    "2. ProductDescription\n",
    "3. Price\n",
    "The attributes which you have to scrape is ticked marked in the below image.\n",
    "To scrape the data you have to go through following steps:\n",
    "1. Go to Flipkart webpage by url :https://www.flipkart.com/\n",
    "2. Enter “sunglasses” in the search fieldwhere “search for products, brands and more” is written and\n",
    "click the search icon\n",
    "3. After that you will reach to the page having a lot of sunglasses. From this page you can scrap the\n",
    "required data as usual.\n",
    "4. After scraping data from the first page, go to the “Next” Button at the bottom other page , then\n",
    "click on it.\n",
    "5. Now scrape data from this page as usual\n",
    "6. Repeat this until you get data for 100sunglasses.'''\n",
    "import selenium\n",
    "from selenium import webdriver\n",
    "import pandas as pd\n",
    "from selenium.webdriver.common.by import By\n",
    "import warnings\n",
    "warnings.filterwarnings(\"ignore\")\n",
    "import time"
   ]
  },
  {
   "cell_type": "code",
   "execution_count": 43,
   "id": "7e1c7103",
   "metadata": {},
   "outputs": [],
   "source": [
    "driver = webdriver.Chrome()"
   ]
  },
  {
   "cell_type": "code",
   "execution_count": 44,
   "id": "578f45b0",
   "metadata": {},
   "outputs": [],
   "source": [
    "#opening the web page on automated chrome browser\n",
    "driver.get(\"https://www.flipkart.com/\")"
   ]
  },
  {
   "cell_type": "code",
   "execution_count": 45,
   "id": "ec41f563",
   "metadata": {},
   "outputs": [],
   "source": [
    "de_2=driver.find_element(By.CLASS_NAME,\"Pke_EE\")\n",
    "de_2.send_keys('sunglasses')"
   ]
  },
  {
   "cell_type": "code",
   "execution_count": 46,
   "id": "d316ae2e",
   "metadata": {},
   "outputs": [],
   "source": [
    "search = driver.find_element(By.CLASS_NAME,\"_2iLD__\")\n",
    "search.click()"
   ]
  },
  {
   "cell_type": "code",
   "execution_count": 134,
   "id": "b96cabc4",
   "metadata": {},
   "outputs": [],
   "source": [
    "brands_4 = []\n",
    "prices_2 = []\n",
    "pro_descs_7 = []"
   ]
  },
  {
   "cell_type": "code",
   "execution_count": 147,
   "id": "4b49b96b",
   "metadata": {},
   "outputs": [],
   "source": [
    "brand_tags1 = driver.find_elements(By.XPATH,'//div[@class=\"_2WkVRV\"]')\n",
    "for i in brand_tags1:\n",
    "    brand = i.text\n",
    "    brands_4.append(brand)"
   ]
  },
  {
   "cell_type": "code",
   "execution_count": 148,
   "id": "fc1aba4b",
   "metadata": {},
   "outputs": [],
   "source": [
    "price_tags1 = driver.find_elements(By.XPATH,'//div[@class=\"_30jeq3\"]')\n",
    "for i in price_tags1:\n",
    "    price = i.text\n",
    "    prices_2.append(price)"
   ]
  },
  {
   "cell_type": "code",
   "execution_count": 149,
   "id": "48779a15",
   "metadata": {},
   "outputs": [],
   "source": [
    "pro_tags1 = driver.find_elements(By.XPATH,'//a[@class =\"IRpwTa\"]')\n",
    "for i in pro_tags1:\n",
    "    pro_desc = i.text\n",
    "    pro_descs_7.append(pro_desc)"
   ]
  },
  {
   "cell_type": "code",
   "execution_count": 150,
   "id": "5a7da801",
   "metadata": {},
   "outputs": [
    {
     "name": "stdout",
     "output_type": "stream",
     "text": [
      "120 120 120\n"
     ]
    }
   ],
   "source": [
    "print(len(brands_4),len(prices_2),len(pro_descs_7))"
   ]
  },
  {
   "cell_type": "code",
   "execution_count": 151,
   "id": "97c25838",
   "metadata": {},
   "outputs": [
    {
     "data": {
      "text/html": [
       "<div>\n",
       "<style scoped>\n",
       "    .dataframe tbody tr th:only-of-type {\n",
       "        vertical-align: middle;\n",
       "    }\n",
       "\n",
       "    .dataframe tbody tr th {\n",
       "        vertical-align: top;\n",
       "    }\n",
       "\n",
       "    .dataframe thead th {\n",
       "        text-align: right;\n",
       "    }\n",
       "</style>\n",
       "<table border=\"1\" class=\"dataframe\">\n",
       "  <thead>\n",
       "    <tr style=\"text-align: right;\">\n",
       "      <th></th>\n",
       "      <th>Brands</th>\n",
       "      <th>Product Description</th>\n",
       "      <th>Prices</th>\n",
       "    </tr>\n",
       "  </thead>\n",
       "  <tbody>\n",
       "    <tr>\n",
       "      <th>0</th>\n",
       "      <td>VINCENT CHASE</td>\n",
       "      <td>Polarized, UV Protection Retro Square Sunglass...</td>\n",
       "      <td>₹703</td>\n",
       "    </tr>\n",
       "    <tr>\n",
       "      <th>1</th>\n",
       "      <td>VINCENT CHASE</td>\n",
       "      <td>UV Protection Retro Square Sunglasses (53)</td>\n",
       "      <td>₹499</td>\n",
       "    </tr>\n",
       "    <tr>\n",
       "      <th>2</th>\n",
       "      <td>iCopertina</td>\n",
       "      <td>UV Protection Rectangular Sunglasses (Free Size)</td>\n",
       "      <td>₹199</td>\n",
       "    </tr>\n",
       "    <tr>\n",
       "      <th>3</th>\n",
       "      <td>Fastrack</td>\n",
       "      <td>UV Protection Wayfarer Sunglasses (58)</td>\n",
       "      <td>₹549</td>\n",
       "    </tr>\n",
       "    <tr>\n",
       "      <th>4</th>\n",
       "      <td>SRPM</td>\n",
       "      <td>UV Protection Wayfarer Sunglasses (50)</td>\n",
       "      <td>₹149</td>\n",
       "    </tr>\n",
       "    <tr>\n",
       "      <th>...</th>\n",
       "      <td>...</td>\n",
       "      <td>...</td>\n",
       "      <td>...</td>\n",
       "    </tr>\n",
       "    <tr>\n",
       "      <th>115</th>\n",
       "      <td>VINCENT CHASE</td>\n",
       "      <td>by Lenskart Polarized, UV Protection Rectangul...</td>\n",
       "      <td>₹749</td>\n",
       "    </tr>\n",
       "    <tr>\n",
       "      <th>116</th>\n",
       "      <td>ROYAL SON</td>\n",
       "      <td>Polarized, UV Protection Aviator Sunglasses (64)</td>\n",
       "      <td>₹679</td>\n",
       "    </tr>\n",
       "    <tr>\n",
       "      <th>117</th>\n",
       "      <td>Eyewearlabs</td>\n",
       "      <td>Polarized, UV Protection Aviator Sunglasses (58)</td>\n",
       "      <td>₹1,999</td>\n",
       "    </tr>\n",
       "    <tr>\n",
       "      <th>118</th>\n",
       "      <td>Roadster</td>\n",
       "      <td>Gradient Aviator Sunglasses (58)</td>\n",
       "      <td>₹199</td>\n",
       "    </tr>\n",
       "    <tr>\n",
       "      <th>119</th>\n",
       "      <td>VINCENT CHASE</td>\n",
       "      <td>by Lenskart Polarized, UV Protection Wayfarer ...</td>\n",
       "      <td>₹526</td>\n",
       "    </tr>\n",
       "  </tbody>\n",
       "</table>\n",
       "<p>120 rows × 3 columns</p>\n",
       "</div>"
      ],
      "text/plain": [
       "            Brands                                Product Description  Prices\n",
       "0    VINCENT CHASE  Polarized, UV Protection Retro Square Sunglass...    ₹703\n",
       "1    VINCENT CHASE         UV Protection Retro Square Sunglasses (53)    ₹499\n",
       "2       iCopertina   UV Protection Rectangular Sunglasses (Free Size)    ₹199\n",
       "3         Fastrack             UV Protection Wayfarer Sunglasses (58)    ₹549\n",
       "4             SRPM             UV Protection Wayfarer Sunglasses (50)    ₹149\n",
       "..             ...                                                ...     ...\n",
       "115  VINCENT CHASE  by Lenskart Polarized, UV Protection Rectangul...    ₹749\n",
       "116      ROYAL SON   Polarized, UV Protection Aviator Sunglasses (64)    ₹679\n",
       "117    Eyewearlabs   Polarized, UV Protection Aviator Sunglasses (58)  ₹1,999\n",
       "118       Roadster                   Gradient Aviator Sunglasses (58)    ₹199\n",
       "119  VINCENT CHASE  by Lenskart Polarized, UV Protection Wayfarer ...    ₹526\n",
       "\n",
       "[120 rows x 3 columns]"
      ]
     },
     "execution_count": 151,
     "metadata": {},
     "output_type": "execute_result"
    }
   ],
   "source": [
    "import pandas as pd\n",
    "df = pd.DataFrame({'Brands':brands_4,'Product Description':pro_descs_7,'Prices':prices_2})\n",
    "df"
   ]
  },
  {
   "cell_type": "markdown",
   "id": "7562c0d9",
   "metadata": {},
   "source": [
    "QUESTION 5"
   ]
  },
  {
   "cell_type": "code",
   "execution_count": 29,
   "id": "d6f0e636",
   "metadata": {},
   "outputs": [],
   "source": [
    "'''Scrape 100 reviews data from flipkart.com for iphone11 phone. You have to go the link:\n",
    "https://www.flipkart.com/apple-iphone-11-black-64-gb/product\u0002reviews/itm4e5041ba101fd?pid=MOBFWQ6BXGJCEYNY&lid=LSTMOBFWQ6BXGJCEYNYZXSHRJ&market\n",
    "place=FLIPKART\n",
    "As shown in the above page you have to scrape the tick marked attributes. These are:\n",
    "1. Rating\n",
    "2. Review summary\n",
    "3. Full review\n",
    "4. You have to scrape this data for first 100reviews.'''\n",
    "import selenium\n",
    "from selenium import webdriver\n",
    "import pandas as pd\n",
    "from selenium.webdriver.common.by import By\n",
    "import warnings\n",
    "warnings.filterwarnings(\"ignore\")\n",
    "import time"
   ]
  },
  {
   "cell_type": "code",
   "execution_count": 30,
   "id": "61fdd09d",
   "metadata": {},
   "outputs": [],
   "source": [
    "driver = webdriver.Chrome()"
   ]
  },
  {
   "cell_type": "code",
   "execution_count": 31,
   "id": "c95b6143",
   "metadata": {},
   "outputs": [],
   "source": [
    "driver.get(\"https://www.flipkart.com/apple-iphone-11-black-64-gb/product-reviews/itm4e5041ba101fd?pid=MOBFWQ6BXGJCEYNY&lid=LSTMOBFWQ6BXGJCEYNYZE3ENS&marketplace=FLIPKART\")"
   ]
  },
  {
   "cell_type": "code",
   "execution_count": 33,
   "id": "4617fc2a",
   "metadata": {},
   "outputs": [],
   "source": [
    "ratings = []\n",
    "rev_summary = []\n",
    "full_review = []"
   ]
  },
  {
   "cell_type": "code",
   "execution_count": 97,
   "id": "4e1644eb",
   "metadata": {},
   "outputs": [],
   "source": [
    "rating_tags1 = driver.find_elements(By.XPATH,'//div[@class=\"_3LWZlK _1BLPMq\"]')\n",
    "for i in rating_tags1:\n",
    "    rating = i.text\n",
    "    ratings.append(rating)"
   ]
  },
  {
   "cell_type": "code",
   "execution_count": 98,
   "id": "cdff2550",
   "metadata": {},
   "outputs": [],
   "source": [
    "r_s1 = driver.find_elements(By.XPATH,'//p[@class=\"_2-N8zT\"]')\n",
    "for i in r_s1:\n",
    "    rev_sum = i.text\n",
    "    rev_summary.append(rev_sum)"
   ]
  },
  {
   "cell_type": "code",
   "execution_count": 99,
   "id": "11c63105",
   "metadata": {},
   "outputs": [],
   "source": [
    "f_r1 = driver.find_elements(By.XPATH,'//div[@class=\"t-ZTKy\"]')\n",
    "for i in f_r1:\n",
    "    f_rev = i.text\n",
    "    full_review.append(f_rev)"
   ]
  },
  {
   "cell_type": "code",
   "execution_count": 100,
   "id": "ce0ed4f9",
   "metadata": {},
   "outputs": [
    {
     "name": "stdout",
     "output_type": "stream",
     "text": [
      "100\n"
     ]
    }
   ],
   "source": [
    "print(len(ratings))"
   ]
  },
  {
   "cell_type": "code",
   "execution_count": 101,
   "id": "4b6c9cae",
   "metadata": {},
   "outputs": [
    {
     "name": "stdout",
     "output_type": "stream",
     "text": [
      "100\n"
     ]
    }
   ],
   "source": [
    "print(len(rev_summary))"
   ]
  },
  {
   "cell_type": "code",
   "execution_count": 102,
   "id": "1bc3fdb0",
   "metadata": {},
   "outputs": [
    {
     "name": "stdout",
     "output_type": "stream",
     "text": [
      "100\n"
     ]
    }
   ],
   "source": [
    "print(len(full_review))"
   ]
  },
  {
   "cell_type": "code",
   "execution_count": 103,
   "id": "954e2d6f",
   "metadata": {},
   "outputs": [
    {
     "data": {
      "text/html": [
       "<div>\n",
       "<style scoped>\n",
       "    .dataframe tbody tr th:only-of-type {\n",
       "        vertical-align: middle;\n",
       "    }\n",
       "\n",
       "    .dataframe tbody tr th {\n",
       "        vertical-align: top;\n",
       "    }\n",
       "\n",
       "    .dataframe thead th {\n",
       "        text-align: right;\n",
       "    }\n",
       "</style>\n",
       "<table border=\"1\" class=\"dataframe\">\n",
       "  <thead>\n",
       "    <tr style=\"text-align: right;\">\n",
       "      <th></th>\n",
       "      <th>Ratings</th>\n",
       "      <th>Review Summary</th>\n",
       "      <th>Full Review</th>\n",
       "    </tr>\n",
       "  </thead>\n",
       "  <tbody>\n",
       "    <tr>\n",
       "      <th>0</th>\n",
       "      <td>5</td>\n",
       "      <td>Highly recommended</td>\n",
       "      <td>Awesome Battery Life...Camera clarity is too g...</td>\n",
       "    </tr>\n",
       "    <tr>\n",
       "      <th>1</th>\n",
       "      <td>5</td>\n",
       "      <td>Best in the market!</td>\n",
       "      <td>Good Camera</td>\n",
       "    </tr>\n",
       "    <tr>\n",
       "      <th>2</th>\n",
       "      <td>5</td>\n",
       "      <td>Worth every penny</td>\n",
       "      <td>Feeling awesome after getting the delivery of ...</td>\n",
       "    </tr>\n",
       "    <tr>\n",
       "      <th>3</th>\n",
       "      <td>5</td>\n",
       "      <td>Terrific purchase</td>\n",
       "      <td>Value for money 😍</td>\n",
       "    </tr>\n",
       "    <tr>\n",
       "      <th>4</th>\n",
       "      <td>5</td>\n",
       "      <td>Classy product</td>\n",
       "      <td>Photos super</td>\n",
       "    </tr>\n",
       "    <tr>\n",
       "      <th>...</th>\n",
       "      <td>...</td>\n",
       "      <td>...</td>\n",
       "      <td>...</td>\n",
       "    </tr>\n",
       "    <tr>\n",
       "      <th>95</th>\n",
       "      <td>5</td>\n",
       "      <td>Highly recommended</td>\n",
       "      <td>Thanks Flipkart For this amazing deal! I had a...</td>\n",
       "    </tr>\n",
       "    <tr>\n",
       "      <th>96</th>\n",
       "      <td>5</td>\n",
       "      <td>Wonderful</td>\n",
       "      <td>Quality camera</td>\n",
       "    </tr>\n",
       "    <tr>\n",
       "      <th>97</th>\n",
       "      <td>4</td>\n",
       "      <td>Very Good</td>\n",
       "      <td>I switched to IOS for long term use and for be...</td>\n",
       "    </tr>\n",
       "    <tr>\n",
       "      <th>98</th>\n",
       "      <td>5</td>\n",
       "      <td>Classy product</td>\n",
       "      <td>Outstanding performance this phone</td>\n",
       "    </tr>\n",
       "    <tr>\n",
       "      <th>99</th>\n",
       "      <td>3</td>\n",
       "      <td>Good</td>\n",
       "      <td>only the name worth it with d price.</td>\n",
       "    </tr>\n",
       "  </tbody>\n",
       "</table>\n",
       "<p>100 rows × 3 columns</p>\n",
       "</div>"
      ],
      "text/plain": [
       "   Ratings       Review Summary  \\\n",
       "0        5   Highly recommended   \n",
       "1        5  Best in the market!   \n",
       "2        5    Worth every penny   \n",
       "3        5    Terrific purchase   \n",
       "4        5       Classy product   \n",
       "..     ...                  ...   \n",
       "95       5   Highly recommended   \n",
       "96       5            Wonderful   \n",
       "97       4            Very Good   \n",
       "98       5       Classy product   \n",
       "99       3                 Good   \n",
       "\n",
       "                                          Full Review  \n",
       "0   Awesome Battery Life...Camera clarity is too g...  \n",
       "1                                         Good Camera  \n",
       "2   Feeling awesome after getting the delivery of ...  \n",
       "3                                   Value for money 😍  \n",
       "4                                        Photos super  \n",
       "..                                                ...  \n",
       "95  Thanks Flipkart For this amazing deal! I had a...  \n",
       "96                                     Quality camera  \n",
       "97  I switched to IOS for long term use and for be...  \n",
       "98                 Outstanding performance this phone  \n",
       "99               only the name worth it with d price.  \n",
       "\n",
       "[100 rows x 3 columns]"
      ]
     },
     "execution_count": 103,
     "metadata": {},
     "output_type": "execute_result"
    }
   ],
   "source": [
    "import pandas as pd\n",
    "df = pd.DataFrame({'Ratings':ratings,'Review Summary':rev_summary,'Full Review':full_review})\n",
    "df"
   ]
  },
  {
   "cell_type": "markdown",
   "id": "82fe915c",
   "metadata": {},
   "source": [
    "QUESTION 6"
   ]
  },
  {
   "cell_type": "code",
   "execution_count": 16,
   "id": "26b370fa",
   "metadata": {},
   "outputs": [],
   "source": [
    "'''Scrape data forfirst 100 sneakers you find whenyou visit flipkart.com and search for “sneakers” inthe\n",
    "search field.\n",
    "You have to scrape 3 attributes of each sneaker:\n",
    "1. Brand\n",
    "2. ProductDescription\n",
    "3. Price'''\n",
    "import selenium\n",
    "from selenium import webdriver\n",
    "import pandas as pd\n",
    "from selenium.webdriver.common.by import By\n",
    "import warnings\n",
    "warnings.filterwarnings(\"ignore\")\n",
    "import time"
   ]
  },
  {
   "cell_type": "code",
   "execution_count": 17,
   "id": "f5663357",
   "metadata": {},
   "outputs": [],
   "source": [
    "driver = webdriver.Chrome()"
   ]
  },
  {
   "cell_type": "code",
   "execution_count": 18,
   "id": "be211fc1",
   "metadata": {},
   "outputs": [],
   "source": [
    "driver.get(\"https://www.flipkart.com/\")"
   ]
  },
  {
   "cell_type": "code",
   "execution_count": 19,
   "id": "9b916817",
   "metadata": {},
   "outputs": [],
   "source": [
    "de_3=driver.find_element(By.CLASS_NAME,\"Pke_EE\")\n",
    "de_3.send_keys('sneakers')"
   ]
  },
  {
   "cell_type": "code",
   "execution_count": 20,
   "id": "774481da",
   "metadata": {},
   "outputs": [],
   "source": [
    "search = driver.find_element(By.CLASS_NAME,\"_2iLD__\")\n",
    "search.click()"
   ]
  },
  {
   "cell_type": "code",
   "execution_count": 21,
   "id": "3fec75a3",
   "metadata": {},
   "outputs": [],
   "source": [
    "brands = []\n",
    "prices = []\n",
    "pro_descs = []"
   ]
  },
  {
   "cell_type": "code",
   "execution_count": 32,
   "id": "93952318",
   "metadata": {},
   "outputs": [],
   "source": [
    "brand_tags = driver.find_elements(By.XPATH,'//div[@class=\"_2WkVRV\"]')\n",
    "for i in brand_tags:\n",
    "    brand = i.text\n",
    "    brands.append(brand)"
   ]
  },
  {
   "cell_type": "code",
   "execution_count": 33,
   "id": "68f16c8d",
   "metadata": {},
   "outputs": [],
   "source": [
    "price_tags = driver.find_elements(By.XPATH,'//div[@class=\"_30jeq3\"]')\n",
    "for i in price_tags:\n",
    "    price = i.text\n",
    "    prices.append(price)"
   ]
  },
  {
   "cell_type": "code",
   "execution_count": 34,
   "id": "4c83b90f",
   "metadata": {},
   "outputs": [],
   "source": [
    "pro_tags = driver.find_elements(By.XPATH,'//a[@class=\"IRpwTa\"]')\n",
    "for i in pro_tags:\n",
    "    pro_desc = i.text\n",
    "    pro_descs.append(pro_desc)"
   ]
  },
  {
   "cell_type": "code",
   "execution_count": 35,
   "id": "5827bf9f",
   "metadata": {},
   "outputs": [
    {
     "name": "stdout",
     "output_type": "stream",
     "text": [
      "120 120 120\n"
     ]
    }
   ],
   "source": [
    "print(len(brands),len(prices),len(pro_descs))"
   ]
  },
  {
   "cell_type": "code",
   "execution_count": 36,
   "id": "e8295bc4",
   "metadata": {},
   "outputs": [
    {
     "data": {
      "text/html": [
       "<div>\n",
       "<style scoped>\n",
       "    .dataframe tbody tr th:only-of-type {\n",
       "        vertical-align: middle;\n",
       "    }\n",
       "\n",
       "    .dataframe tbody tr th {\n",
       "        vertical-align: top;\n",
       "    }\n",
       "\n",
       "    .dataframe thead th {\n",
       "        text-align: right;\n",
       "    }\n",
       "</style>\n",
       "<table border=\"1\" class=\"dataframe\">\n",
       "  <thead>\n",
       "    <tr style=\"text-align: right;\">\n",
       "      <th></th>\n",
       "      <th>Brands</th>\n",
       "      <th>Product Description</th>\n",
       "      <th>Prices</th>\n",
       "    </tr>\n",
       "  </thead>\n",
       "  <tbody>\n",
       "    <tr>\n",
       "      <th>0</th>\n",
       "      <td>BRUTON</td>\n",
       "      <td>Combo Pack Of 2 Casual Shoes for mens Sneakers...</td>\n",
       "      <td>₹497</td>\n",
       "    </tr>\n",
       "    <tr>\n",
       "      <th>1</th>\n",
       "      <td>BRUTON</td>\n",
       "      <td>!Combo Pack Of 2 Casual Shoes! Sneakers For Men</td>\n",
       "      <td>₹497</td>\n",
       "    </tr>\n",
       "    <tr>\n",
       "      <th>2</th>\n",
       "      <td>URBANBOX</td>\n",
       "      <td>Trending Stylish Casual Outdoor Sneakers Shoes...</td>\n",
       "      <td>₹299</td>\n",
       "    </tr>\n",
       "    <tr>\n",
       "      <th>3</th>\n",
       "      <td>Layasa</td>\n",
       "      <td>Sneakers For Men</td>\n",
       "      <td>₹299</td>\n",
       "    </tr>\n",
       "    <tr>\n",
       "      <th>4</th>\n",
       "      <td>aadi</td>\n",
       "      <td>Synthetic Leather |Lightweight|Comfort|Summer|...</td>\n",
       "      <td>₹289</td>\n",
       "    </tr>\n",
       "    <tr>\n",
       "      <th>...</th>\n",
       "      <td>...</td>\n",
       "      <td>...</td>\n",
       "      <td>...</td>\n",
       "    </tr>\n",
       "    <tr>\n",
       "      <th>115</th>\n",
       "      <td>RED TAPE</td>\n",
       "      <td>Casual Sneakers For Men | Comfortable, Shock A...</td>\n",
       "      <td>₹1,319</td>\n",
       "    </tr>\n",
       "    <tr>\n",
       "      <th>116</th>\n",
       "      <td>ROTHAR</td>\n",
       "      <td>Sneakers For Men</td>\n",
       "      <td>₹799</td>\n",
       "    </tr>\n",
       "    <tr>\n",
       "      <th>117</th>\n",
       "      <td>SOLETHREADS REBEL</td>\n",
       "      <td>Multicolored Red And White Jordan Retro 4 Foot...</td>\n",
       "      <td>₹989</td>\n",
       "    </tr>\n",
       "    <tr>\n",
       "      <th>118</th>\n",
       "      <td>PUMA</td>\n",
       "      <td>Smash V2 Buck Sneakers For Men</td>\n",
       "      <td>₹2,249</td>\n",
       "    </tr>\n",
       "    <tr>\n",
       "      <th>119</th>\n",
       "      <td>RED TAPE</td>\n",
       "      <td>Sneaker Casual Shoes for Men | Soft Cushioned ...</td>\n",
       "      <td>₹1,269</td>\n",
       "    </tr>\n",
       "  </tbody>\n",
       "</table>\n",
       "<p>120 rows × 3 columns</p>\n",
       "</div>"
      ],
      "text/plain": [
       "                Brands                                Product Description  \\\n",
       "0               BRUTON  Combo Pack Of 2 Casual Shoes for mens Sneakers...   \n",
       "1               BRUTON    !Combo Pack Of 2 Casual Shoes! Sneakers For Men   \n",
       "2             URBANBOX  Trending Stylish Casual Outdoor Sneakers Shoes...   \n",
       "3               Layasa                                   Sneakers For Men   \n",
       "4                 aadi  Synthetic Leather |Lightweight|Comfort|Summer|...   \n",
       "..                 ...                                                ...   \n",
       "115           RED TAPE  Casual Sneakers For Men | Comfortable, Shock A...   \n",
       "116             ROTHAR                                   Sneakers For Men   \n",
       "117  SOLETHREADS REBEL  Multicolored Red And White Jordan Retro 4 Foot...   \n",
       "118               PUMA                     Smash V2 Buck Sneakers For Men   \n",
       "119           RED TAPE  Sneaker Casual Shoes for Men | Soft Cushioned ...   \n",
       "\n",
       "     Prices  \n",
       "0      ₹497  \n",
       "1      ₹497  \n",
       "2      ₹299  \n",
       "3      ₹299  \n",
       "4      ₹289  \n",
       "..      ...  \n",
       "115  ₹1,319  \n",
       "116    ₹799  \n",
       "117    ₹989  \n",
       "118  ₹2,249  \n",
       "119  ₹1,269  \n",
       "\n",
       "[120 rows x 3 columns]"
      ]
     },
     "execution_count": 36,
     "metadata": {},
     "output_type": "execute_result"
    }
   ],
   "source": [
    "import pandas as pd\n",
    "df = pd.DataFrame({'Brands':brands,'Product Description':pro_descs,'Prices':prices})\n",
    "df"
   ]
  },
  {
   "cell_type": "markdown",
   "id": "61d07fed",
   "metadata": {},
   "source": [
    "QUESTION 7"
   ]
  },
  {
   "cell_type": "code",
   "execution_count": 8,
   "id": "986fc892",
   "metadata": {},
   "outputs": [],
   "source": [
    "'''Go to webpage https://www.amazon.in/ Enter “Laptop” in the search field and then click the search icon. Then\n",
    "set CPU Type filter to “Intel Core i7”\n",
    "After setting the filters scrape first 10 laptops data. You have to scrape 3 attributes for each laptop:\n",
    "1. Title\n",
    "2. Ratings\n",
    "3. Price'''\n",
    "import selenium\n",
    "from selenium import webdriver\n",
    "import pandas as pd\n",
    "from selenium.webdriver.common.by import By\n",
    "import warnings\n",
    "warnings.filterwarnings(\"ignore\")\n",
    "import time\n",
    "from bs4 import BeautifulSoup\n",
    "import requests"
   ]
  },
  {
   "cell_type": "code",
   "execution_count": 2,
   "id": "b9f3bfc7",
   "metadata": {},
   "outputs": [],
   "source": [
    "driver = webdriver.Chrome()"
   ]
  },
  {
   "cell_type": "code",
   "execution_count": 3,
   "id": "1cbfaf48",
   "metadata": {},
   "outputs": [],
   "source": [
    "driver.get(\"https://www.amazon.in/\")"
   ]
  },
  {
   "cell_type": "code",
   "execution_count": 4,
   "id": "e115f3dc",
   "metadata": {},
   "outputs": [],
   "source": [
    "de_4=driver.find_element(By.XPATH,\"/html/body/div[1]/header/div/div[1]/div[2]/div/form/div[2]/div[1]/input\")\n",
    "de_4.send_keys('Laptop')"
   ]
  },
  {
   "cell_type": "code",
   "execution_count": 5,
   "id": "e34883fe",
   "metadata": {},
   "outputs": [],
   "source": [
    "search = driver.find_element(By.XPATH,\"/html/body/div[1]/header/div/div[1]/div[2]/div/form/div[3]/div/span/input\")\n",
    "search.click()"
   ]
  },
  {
   "cell_type": "code",
   "execution_count": 6,
   "id": "aa54d508",
   "metadata": {},
   "outputs": [],
   "source": [
    "search4 = driver.find_element(By.XPATH,\"/html/body/div[1]/div[1]/div[1]/div[2]/div/div[3]/span/div[1]/div/div/div[6]/ul[6]/span[9]/li/span/a/div\")\n",
    "search4.click()"
   ]
  },
  {
   "cell_type": "code",
   "execution_count": 26,
   "id": "c74e552a",
   "metadata": {},
   "outputs": [],
   "source": [
    "titles = []\n",
    "prices = []\n",
    "ratings = []"
   ]
  },
  {
   "cell_type": "code",
   "execution_count": 31,
   "id": "cb3cf65f",
   "metadata": {},
   "outputs": [],
   "source": [
    "titles_tags = driver.find_elements(By.XPATH,'//span[@class=\"a-size-medium a-color-base a-text-normal\"]')\n",
    "for i in titles_tags:\n",
    "    title = i.text\n",
    "    titles.append(title)"
   ]
  },
  {
   "cell_type": "code",
   "execution_count": 32,
   "id": "0e775f49",
   "metadata": {},
   "outputs": [],
   "source": [
    "prices_tags = driver.find_elements(By.XPATH,'//span[@class = \"a-price-whole\"]')\n",
    "for i in prices_tags:\n",
    "    price = i.text\n",
    "    prices.append(price)"
   ]
  },
  {
   "cell_type": "code",
   "execution_count": 33,
   "id": "14ff1d25",
   "metadata": {},
   "outputs": [],
   "source": [
    "ratings_tags = driver.find_elements(By.XPATH,'//i[@class=\"a-icon a-icon-star-small a-star-small-3-5 aok-align-bottom\"]/span')\n",
    "for i in ratings_tags:\n",
    "    rating = i.text\n",
    "    ratings.append(rating)"
   ]
  },
  {
   "cell_type": "code",
   "execution_count": 34,
   "id": "f07c52a5",
   "metadata": {},
   "outputs": [],
   "source": [
    "t_t = titles[:10]\n",
    "p_t = prices[:10]\n",
    "r_t = ratings[:10]"
   ]
  },
  {
   "cell_type": "code",
   "execution_count": 35,
   "id": "fa92b6ed",
   "metadata": {},
   "outputs": [
    {
     "name": "stdout",
     "output_type": "stream",
     "text": [
      "10 10 10\n"
     ]
    }
   ],
   "source": [
    "print(len(t_t),len(p_t),len(r_t))"
   ]
  },
  {
   "cell_type": "code",
   "execution_count": 36,
   "id": "66c7b5ad",
   "metadata": {},
   "outputs": [
    {
     "data": {
      "text/html": [
       "<div>\n",
       "<style scoped>\n",
       "    .dataframe tbody tr th:only-of-type {\n",
       "        vertical-align: middle;\n",
       "    }\n",
       "\n",
       "    .dataframe tbody tr th {\n",
       "        vertical-align: top;\n",
       "    }\n",
       "\n",
       "    .dataframe thead th {\n",
       "        text-align: right;\n",
       "    }\n",
       "</style>\n",
       "<table border=\"1\" class=\"dataframe\">\n",
       "  <thead>\n",
       "    <tr style=\"text-align: right;\">\n",
       "      <th></th>\n",
       "      <th>Titles</th>\n",
       "      <th>Prices(in rupees)</th>\n",
       "      <th>Ratings</th>\n",
       "    </tr>\n",
       "  </thead>\n",
       "  <tbody>\n",
       "    <tr>\n",
       "      <th>0</th>\n",
       "      <td>HP Laptop 15s, 12th Gen Intel Core i7-1255U, 1...</td>\n",
       "      <td>63,990</td>\n",
       "      <td></td>\n",
       "    </tr>\n",
       "    <tr>\n",
       "      <th>1</th>\n",
       "      <td>MSI Modern 14, Intel 12th Gen. i7-1255U, 36CM ...</td>\n",
       "      <td>49,990</td>\n",
       "      <td></td>\n",
       "    </tr>\n",
       "    <tr>\n",
       "      <th>2</th>\n",
       "      <td>MSI GF63 Thin, Intel Core i7-11800H, 40CM FHD ...</td>\n",
       "      <td>57,990</td>\n",
       "      <td></td>\n",
       "    </tr>\n",
       "    <tr>\n",
       "      <th>3</th>\n",
       "      <td>MSI GF63 Thin, Intel Core i7-11800H, 40CM FHD ...</td>\n",
       "      <td>64,990</td>\n",
       "      <td></td>\n",
       "    </tr>\n",
       "    <tr>\n",
       "      <th>4</th>\n",
       "      <td>ASUS TUF Gaming F15, 15.6\"(39.62 cms) FHD 144H...</td>\n",
       "      <td>75,990</td>\n",
       "      <td></td>\n",
       "    </tr>\n",
       "    <tr>\n",
       "      <th>5</th>\n",
       "      <td>ASUS Vivobook 15, Intel Core i7-12650H 12th Ge...</td>\n",
       "      <td>60,990</td>\n",
       "      <td></td>\n",
       "    </tr>\n",
       "    <tr>\n",
       "      <th>6</th>\n",
       "      <td>Acer Aspire Lite Premium Metal Laptop 11th Gen...</td>\n",
       "      <td>47,990</td>\n",
       "      <td></td>\n",
       "    </tr>\n",
       "    <tr>\n",
       "      <th>7</th>\n",
       "      <td>ASUS TUF Gaming F15, 15.6-inch (39.62 cms) FHD...</td>\n",
       "      <td>85,990</td>\n",
       "      <td></td>\n",
       "    </tr>\n",
       "    <tr>\n",
       "      <th>8</th>\n",
       "      <td>Lenovo IdeaPad Slim 3 Intel Core i7 11th Gen 1...</td>\n",
       "      <td>52,990</td>\n",
       "      <td></td>\n",
       "    </tr>\n",
       "    <tr>\n",
       "      <th>9</th>\n",
       "      <td>Dell Inspiron 5430 Laptop, Intel Core i7-1360P...</td>\n",
       "      <td>84,990</td>\n",
       "      <td></td>\n",
       "    </tr>\n",
       "  </tbody>\n",
       "</table>\n",
       "</div>"
      ],
      "text/plain": [
       "                                              Titles Prices(in rupees) Ratings\n",
       "0  HP Laptop 15s, 12th Gen Intel Core i7-1255U, 1...            63,990        \n",
       "1  MSI Modern 14, Intel 12th Gen. i7-1255U, 36CM ...            49,990        \n",
       "2  MSI GF63 Thin, Intel Core i7-11800H, 40CM FHD ...            57,990        \n",
       "3  MSI GF63 Thin, Intel Core i7-11800H, 40CM FHD ...            64,990        \n",
       "4  ASUS TUF Gaming F15, 15.6\"(39.62 cms) FHD 144H...            75,990        \n",
       "5  ASUS Vivobook 15, Intel Core i7-12650H 12th Ge...            60,990        \n",
       "6  Acer Aspire Lite Premium Metal Laptop 11th Gen...            47,990        \n",
       "7  ASUS TUF Gaming F15, 15.6-inch (39.62 cms) FHD...            85,990        \n",
       "8  Lenovo IdeaPad Slim 3 Intel Core i7 11th Gen 1...            52,990        \n",
       "9  Dell Inspiron 5430 Laptop, Intel Core i7-1360P...            84,990        "
      ]
     },
     "execution_count": 36,
     "metadata": {},
     "output_type": "execute_result"
    }
   ],
   "source": [
    "import pandas as pd\n",
    "df = pd.DataFrame({'Titles':t_t,'Prices(in rupees)':p_t,'Ratings':r_t})\n",
    "df"
   ]
  },
  {
   "cell_type": "markdown",
   "id": "29ba9838",
   "metadata": {},
   "source": [
    "QUESTION 8"
   ]
  },
  {
   "cell_type": "code",
   "execution_count": 79,
   "id": "04316cd1",
   "metadata": {},
   "outputs": [],
   "source": [
    "'''Write a python program to scrape data for Top 1000 Quotes of All Time.\n",
    "The above task will be done in following steps:\n",
    "1. First get the webpagehttps://www.azquotes.com/\n",
    "2. Click on TopQuotes\n",
    "3. Than scrap a) Quote b) Author c) Type Of Quotes'''\n",
    "import selenium\n",
    "from selenium import webdriver\n",
    "import pandas as pd\n",
    "from selenium.webdriver.common.by import By\n",
    "import warnings\n",
    "warnings.filterwarnings(\"ignore\")\n",
    "import time"
   ]
  },
  {
   "cell_type": "code",
   "execution_count": 80,
   "id": "efc576ad",
   "metadata": {},
   "outputs": [],
   "source": [
    "driver = webdriver.Chrome()"
   ]
  },
  {
   "cell_type": "code",
   "execution_count": 81,
   "id": "b8b601da",
   "metadata": {},
   "outputs": [],
   "source": [
    "driver.get(\"https://www.azquotes.com/\")"
   ]
  },
  {
   "cell_type": "code",
   "execution_count": 82,
   "id": "f50b4076",
   "metadata": {},
   "outputs": [],
   "source": [
    "search = driver.find_element(By.XPATH,\"/html/body/div[1]/div[1]/div[1]/div/div[3]/ul/li[5]/a\")\n",
    "search.click()"
   ]
  },
  {
   "cell_type": "code",
   "execution_count": 83,
   "id": "dc87cfe7",
   "metadata": {},
   "outputs": [],
   "source": [
    "quotes = []\n",
    "authors = []\n",
    "type_of_quotes = []"
   ]
  },
  {
   "cell_type": "code",
   "execution_count": 84,
   "id": "b0d22de4",
   "metadata": {},
   "outputs": [],
   "source": [
    "quotes_tags = driver.find_elements(By.XPATH,'//a[@class=\"title\"]')\n",
    "for i in quotes_tags:\n",
    "    quote = i.text\n",
    "    quotes.append(quote)"
   ]
  },
  {
   "cell_type": "code",
   "execution_count": 85,
   "id": "e57bc8d6",
   "metadata": {},
   "outputs": [
    {
     "name": "stdout",
     "output_type": "stream",
     "text": [
      "100\n"
     ]
    }
   ],
   "source": [
    "print(len(quotes))"
   ]
  },
  {
   "cell_type": "code",
   "execution_count": 86,
   "id": "af66c992",
   "metadata": {},
   "outputs": [],
   "source": [
    "authors_tags = driver.find_elements(By.XPATH,'//div[@class=\"author\"]/a')\n",
    "for i in authors_tags:\n",
    "    author = i.text\n",
    "    authors.append(author)"
   ]
  },
  {
   "cell_type": "code",
   "execution_count": 87,
   "id": "22f0090e",
   "metadata": {},
   "outputs": [
    {
     "name": "stdout",
     "output_type": "stream",
     "text": [
      "100\n"
     ]
    }
   ],
   "source": [
    "print(len(authors))"
   ]
  },
  {
   "cell_type": "code",
   "execution_count": 88,
   "id": "95c3e324",
   "metadata": {},
   "outputs": [],
   "source": [
    "type_of_quote_tags = driver.find_elements(By.XPATH,'//div[@class=\"tags\"]/a[1]')\n",
    "for i in type_of_quote_tags:\n",
    "    type_of_quote = i.text\n",
    "    type_of_quotes.append(type_of_quote)"
   ]
  },
  {
   "cell_type": "code",
   "execution_count": 89,
   "id": "8b7bbc3b",
   "metadata": {},
   "outputs": [
    {
     "name": "stdout",
     "output_type": "stream",
     "text": [
      "100\n"
     ]
    }
   ],
   "source": [
    "print(len(type_of_quotes))"
   ]
  },
  {
   "cell_type": "code",
   "execution_count": 90,
   "id": "182445ff",
   "metadata": {},
   "outputs": [
    {
     "data": {
      "text/html": [
       "<div>\n",
       "<style scoped>\n",
       "    .dataframe tbody tr th:only-of-type {\n",
       "        vertical-align: middle;\n",
       "    }\n",
       "\n",
       "    .dataframe tbody tr th {\n",
       "        vertical-align: top;\n",
       "    }\n",
       "\n",
       "    .dataframe thead th {\n",
       "        text-align: right;\n",
       "    }\n",
       "</style>\n",
       "<table border=\"1\" class=\"dataframe\">\n",
       "  <thead>\n",
       "    <tr style=\"text-align: right;\">\n",
       "      <th></th>\n",
       "      <th>Quotes</th>\n",
       "      <th>Authors</th>\n",
       "      <th>Type of Quotes</th>\n",
       "    </tr>\n",
       "  </thead>\n",
       "  <tbody>\n",
       "    <tr>\n",
       "      <th>0</th>\n",
       "      <td>The essence of strategy is choosing what not t...</td>\n",
       "      <td>Michael Porter</td>\n",
       "      <td>Essence</td>\n",
       "    </tr>\n",
       "    <tr>\n",
       "      <th>1</th>\n",
       "      <td>One cannot and must not try to erase the past ...</td>\n",
       "      <td>Golda Meir</td>\n",
       "      <td>Inspiration</td>\n",
       "    </tr>\n",
       "    <tr>\n",
       "      <th>2</th>\n",
       "      <td>Patriotism means to stand by the country. It d...</td>\n",
       "      <td>Theodore Roosevelt</td>\n",
       "      <td>Country</td>\n",
       "    </tr>\n",
       "    <tr>\n",
       "      <th>3</th>\n",
       "      <td>Death is something inevitable. When a man has ...</td>\n",
       "      <td>Nelson Mandela</td>\n",
       "      <td>Inspirational</td>\n",
       "    </tr>\n",
       "    <tr>\n",
       "      <th>4</th>\n",
       "      <td>You have to love a nation that celebrates its ...</td>\n",
       "      <td>Erma Bombeck</td>\n",
       "      <td>4th Of July</td>\n",
       "    </tr>\n",
       "    <tr>\n",
       "      <th>...</th>\n",
       "      <td>...</td>\n",
       "      <td>...</td>\n",
       "      <td>...</td>\n",
       "    </tr>\n",
       "    <tr>\n",
       "      <th>95</th>\n",
       "      <td>When the going gets weird, the weird turn pro.</td>\n",
       "      <td>Hunter S. Thompson</td>\n",
       "      <td>Music</td>\n",
       "    </tr>\n",
       "    <tr>\n",
       "      <th>96</th>\n",
       "      <td>When a train goes through a tunnel and it gets...</td>\n",
       "      <td>Corrie Ten Boom</td>\n",
       "      <td>Trust</td>\n",
       "    </tr>\n",
       "    <tr>\n",
       "      <th>97</th>\n",
       "      <td>If you think you are too small to make a diffe...</td>\n",
       "      <td>Dalai Lama</td>\n",
       "      <td>Inspirational</td>\n",
       "    </tr>\n",
       "    <tr>\n",
       "      <th>98</th>\n",
       "      <td>God doesn't require us to succeed, he only req...</td>\n",
       "      <td>Mother Teresa</td>\n",
       "      <td>Success</td>\n",
       "    </tr>\n",
       "    <tr>\n",
       "      <th>99</th>\n",
       "      <td>Change your thoughts and you change your world.</td>\n",
       "      <td>Norman Vincent Peale</td>\n",
       "      <td>Inspirational</td>\n",
       "    </tr>\n",
       "  </tbody>\n",
       "</table>\n",
       "<p>100 rows × 3 columns</p>\n",
       "</div>"
      ],
      "text/plain": [
       "                                               Quotes               Authors  \\\n",
       "0   The essence of strategy is choosing what not t...        Michael Porter   \n",
       "1   One cannot and must not try to erase the past ...            Golda Meir   \n",
       "2   Patriotism means to stand by the country. It d...    Theodore Roosevelt   \n",
       "3   Death is something inevitable. When a man has ...        Nelson Mandela   \n",
       "4   You have to love a nation that celebrates its ...          Erma Bombeck   \n",
       "..                                                ...                   ...   \n",
       "95     When the going gets weird, the weird turn pro.    Hunter S. Thompson   \n",
       "96  When a train goes through a tunnel and it gets...       Corrie Ten Boom   \n",
       "97  If you think you are too small to make a diffe...            Dalai Lama   \n",
       "98  God doesn't require us to succeed, he only req...         Mother Teresa   \n",
       "99    Change your thoughts and you change your world.  Norman Vincent Peale   \n",
       "\n",
       "   Type of Quotes  \n",
       "0         Essence  \n",
       "1     Inspiration  \n",
       "2         Country  \n",
       "3   Inspirational  \n",
       "4     4th Of July  \n",
       "..            ...  \n",
       "95          Music  \n",
       "96          Trust  \n",
       "97  Inspirational  \n",
       "98        Success  \n",
       "99  Inspirational  \n",
       "\n",
       "[100 rows x 3 columns]"
      ]
     },
     "execution_count": 90,
     "metadata": {},
     "output_type": "execute_result"
    }
   ],
   "source": [
    "import pandas as pd\n",
    "df = pd.DataFrame({'Quotes':quotes,'Authors':authors,'Type of Quotes':type_of_quotes})\n",
    "df"
   ]
  },
  {
   "cell_type": "markdown",
   "id": "0c9938ff",
   "metadata": {},
   "source": [
    "QUESTION 9"
   ]
  },
  {
   "cell_type": "code",
   "execution_count": 91,
   "id": "7530382b",
   "metadata": {},
   "outputs": [],
   "source": [
    "''': Write a python program to display list of respected former Prime Ministers of India(i.e. Name, Born-Dead,\n",
    "Term of office, Remarks) from https://www.jagranjosh.com/.\n",
    "This task will be done in following steps:\n",
    "1. First get the webpagehttps://www.jagranjosh.com/\n",
    "2. Then You have to click on the GK option\n",
    "3. Then click on the List of all Prime Ministers of India\n",
    "4. Then scrap the mentioned data and make theDataFrame.'''\n",
    "import selenium\n",
    "from selenium import webdriver\n",
    "import pandas as pd\n",
    "from selenium.webdriver.common.by import By\n",
    "import warnings\n",
    "warnings.filterwarnings(\"ignore\")\n",
    "import time"
   ]
  },
  {
   "cell_type": "code",
   "execution_count": 92,
   "id": "64772920",
   "metadata": {},
   "outputs": [],
   "source": [
    "driver = webdriver.Chrome()"
   ]
  },
  {
   "cell_type": "code",
   "execution_count": 93,
   "id": "e30341c8",
   "metadata": {},
   "outputs": [],
   "source": [
    "driver.get(\"https://www.jagranjosh.com/\")"
   ]
  },
  {
   "cell_type": "code",
   "execution_count": 94,
   "id": "d2641193",
   "metadata": {},
   "outputs": [],
   "source": [
    "search = driver.find_element(By.XPATH,\"/html/body/div[1]/header/nav/div/div/div[3]/ul/li[6]/a\")\n",
    "search.click()"
   ]
  },
  {
   "cell_type": "code",
   "execution_count": 95,
   "id": "5d4d1002",
   "metadata": {},
   "outputs": [],
   "source": [
    "search_1 = driver.find_element(By.XPATH,\"/html/body/div[2]/div/div/div[2]/div/div[10]/div/div/ul/li[2]/a\")\n",
    "search_1.click()"
   ]
  },
  {
   "cell_type": "code",
   "execution_count": 103,
   "id": "24e83337",
   "metadata": {},
   "outputs": [
    {
     "name": "stdout",
     "output_type": "stream",
     "text": [
      "21\n"
     ]
    }
   ],
   "source": [
    "l = driver.find_elements(By.XPATH,\"//*[@class='table-box']/table/tbody/tr\")\n",
    "print(len(l))"
   ]
  },
  {
   "cell_type": "code",
   "execution_count": 108,
   "id": "adc13164",
   "metadata": {},
   "outputs": [
    {
     "name": "stdout",
     "output_type": "stream",
     "text": [
      "2.\n",
      "Gulzarilal Nanda (Acting)\n",
      "(1898-1998)\n",
      "27 May 1964 to 9 June 1964,\n",
      "13 days\n",
      "First acting PM of India\n"
     ]
    }
   ],
   "source": [
    "u = driver.find_elements(By.XPATH,\"//*[@class='table-box']/table/tbody/tr[3]/td\")\n",
    "for i in u:\n",
    "    print(i.text)"
   ]
  },
  {
   "cell_type": "code",
   "execution_count": 105,
   "id": "9ecd1d25",
   "metadata": {},
   "outputs": [
    {
     "name": "stdout",
     "output_type": "stream",
     "text": [
      "S.N.\n",
      "PM Name\n",
      "Born-Dead\n",
      "Term of office\n",
      "Remark\n"
     ]
    }
   ],
   "source": [
    "h = driver.find_elements(By.XPATH,\"//*[@class='table-box']/table/tbody/tr[1]/th\")\n",
    "for i in h:\n",
    "    print(i.text)"
   ]
  },
  {
   "cell_type": "code",
   "execution_count": 122,
   "id": "acdf5f13",
   "metadata": {},
   "outputs": [
    {
     "name": "stdout",
     "output_type": "stream",
     "text": [
      "1.\n",
      "Jawahar Lal Nehru\n",
      "(1889–1964)\n",
      "15 August 1947 to 27 May 1964\n",
      "16 years, 286 days\n",
      "The first prime minister of India and the longest-serving PM of India, the first to die in office.\n",
      "2.\n",
      "Gulzarilal Nanda (Acting)\n",
      "(1898-1998)\n",
      "27 May 1964 to 9 June 1964,\n",
      "13 days\n",
      "First acting PM of India\n",
      "3.\n",
      "Lal Bahadur Shastri\n",
      "(1904–1966)\n",
      "9 June 1964 to 11 January 1966\n",
      "1 year, 216 days\n",
      "He has given the slogan of 'Jai Jawan Jai Kisan' during the Indo-Pak war of 1965\n",
      "4. \n",
      "Gulzari Lal Nanda  (Acting)\n",
      "(1898-1998)\n",
      "11 January 1966 to 24 January 1966\n",
      "13 days\n",
      "-\n",
      "5.\n",
      "Indira Gandhi\n",
      "(1917–1984)\n",
      "24 January 1966 to 24 March 1977\n",
      "11 years, 59 days\n",
      "First female Prime Minister of India\n",
      "6.\n",
      "Morarji Desai\n",
      "(1896–1995)\n",
      "24 March 1977 to  28 July 1979 \n",
      "2 year, 126 days\n",
      "Oldest to become PM (81 years old) and first to resign from office\n",
      "7.\n",
      "Charan Singh\n",
      "(1902–1987)\n",
      "28 July 1979 to 14 January 1980\n",
      "170 days\n",
      "Only PM who did not face the Parliament\n",
      "8.\n",
      "Indira Gandhi\n",
      "(1917–1984)\n",
      "14 January 1980 to 31 October 1984\n",
      "4 years, 291 days\n",
      "The first lady who served as PM for the second term\n",
      "9.\n",
      "Rajiv Gandhi\n",
      "(1944–1991)\n",
      "31 October 1984 to 2 December 1989\n",
      "5 years, 32 days\n",
      "Youngest to become PM (40 years old)\n",
      "10.\n",
      "V. P. Singh\n",
      "(1931–2008)\n",
      "2 December 1989 to 10 November 1990\n",
      "343 days\n",
      "First PM to step down after a vote of no confidence\n",
      "11.\n",
      "Chandra Shekhar\n",
      "(1927–2007)\n",
      "10 November 1990 to 21 June 1991\n",
      "223 days\n",
      "He belongs to  Samajwadi Janata Party\n",
      "12.\n",
      "P. V. Narasimha Rao\n",
      "(1921–2004)\n",
      "21 June 1991 to 16 May 1996\n",
      "4 years, 330 days\n",
      "First PM from South India\n",
      "13.\n",
      "Atal Bihari Vajpayee\n",
      "(1924- 2018)\n",
      "16 May 1996 to 1 June 1996\n",
      "16 days\n",
      "PM for shortest tenure\n",
      "14.\n",
      "H. D. Deve Gowda\n",
      "(born 1933)\n",
      "1 June 1996 to 21 April 1997\n",
      "324 days\n",
      "He belongs to  Janata Dal\n",
      "15.\n",
      "Inder Kumar Gujral\n",
      "(1919–2012)\n",
      "21 April 1997 to 19 March 1998 \n",
      "332 days\n",
      "------\n",
      "16.\n",
      "Atal Bihari Vajpayee\n",
      "(1924-2018)\n",
      "19 March 1998 to 22 May 2004 \n",
      "6 years, 64 days\n",
      " The first non-congress PM who completed a full term as PM\n",
      "17.\n",
      "Manmohan Singh\n",
      "(born 1932)\n",
      "22 May 2004 to 26 May 2014   \n",
      "10 years, 4 days\n",
      " First Sikh PM\n",
      "18.\n",
      "Narendra Modi\n",
      "(born 1950)\n",
      "26 May 2014 - 2019\n",
      "4th Prime Minister of India who served two consecutive tenures\n",
      "19.\n",
      "Narendra Modi\n",
      "(born 1950)\n",
      "30 May 2019- Incumbent\n",
      "First non-congress PM with two consecutive tenures\n"
     ]
    },
    {
     "ename": "NoSuchElementException",
     "evalue": "Message: no such element: Unable to locate element: {\"method\":\"xpath\",\"selector\":\"//tr[21]/td[1]\"}\n  (Session info: chrome=118.0.5993.120); For documentation on this error, please visit: https://www.selenium.dev/documentation/webdriver/troubleshooting/errors#no-such-element-exception\nStacktrace:\n\tGetHandleVerifier [0x00007FF704A78EF2+54786]\n\t(No symbol) [0x00007FF7049E5612]\n\t(No symbol) [0x00007FF70489A64B]\n\t(No symbol) [0x00007FF7048DB79C]\n\t(No symbol) [0x00007FF7048DB91C]\n\t(No symbol) [0x00007FF704916D87]\n\t(No symbol) [0x00007FF7048FBEAF]\n\t(No symbol) [0x00007FF704914D02]\n\t(No symbol) [0x00007FF7048FBC43]\n\t(No symbol) [0x00007FF7048D0941]\n\t(No symbol) [0x00007FF7048D1B84]\n\tGetHandleVerifier [0x00007FF704DC7F52+3524194]\n\tGetHandleVerifier [0x00007FF704E1D800+3874576]\n\tGetHandleVerifier [0x00007FF704E15D7F+3843215]\n\tGetHandleVerifier [0x00007FF704B15086+694166]\n\t(No symbol) [0x00007FF7049F0A88]\n\t(No symbol) [0x00007FF7049ECA94]\n\t(No symbol) [0x00007FF7049ECBC2]\n\t(No symbol) [0x00007FF7049DCC83]\n\tBaseThreadInitThunk [0x00007FFD62C9257D+29]\n\tRtlUserThreadStart [0x00007FFD62DEAA78+40]\n",
     "output_type": "error",
     "traceback": [
      "\u001b[1;31m---------------------------------------------------------------------------\u001b[0m",
      "\u001b[1;31mNoSuchElementException\u001b[0m                    Traceback (most recent call last)",
      "Cell \u001b[1;32mIn[122], line 7\u001b[0m\n\u001b[0;32m      5\u001b[0m \u001b[38;5;28;01mfor\u001b[39;00m i \u001b[38;5;129;01min\u001b[39;00m \u001b[38;5;28mrange\u001b[39m(\u001b[38;5;241m2\u001b[39m,rc\u001b[38;5;241m+\u001b[39m\u001b[38;5;241m1\u001b[39m):\n\u001b[0;32m      6\u001b[0m     \u001b[38;5;28;01mfor\u001b[39;00m j \u001b[38;5;129;01min\u001b[39;00m \u001b[38;5;28mrange\u001b[39m(\u001b[38;5;241m1\u001b[39m,cc\u001b[38;5;241m+\u001b[39m\u001b[38;5;241m1\u001b[39m):\n\u001b[1;32m----> 7\u001b[0m         d \u001b[38;5;241m=\u001b[39m \u001b[43mdriver\u001b[49m\u001b[38;5;241;43m.\u001b[39;49m\u001b[43mfind_element\u001b[49m\u001b[43m(\u001b[49m\u001b[43mBy\u001b[49m\u001b[38;5;241;43m.\u001b[39;49m\u001b[43mXPATH\u001b[49m\u001b[43m,\u001b[49m\u001b[38;5;124;43m\"\u001b[39;49m\u001b[38;5;124;43m//tr[\u001b[39;49m\u001b[38;5;124;43m\"\u001b[39;49m\u001b[38;5;241;43m+\u001b[39;49m\u001b[38;5;28;43mstr\u001b[39;49m\u001b[43m(\u001b[49m\u001b[43mi\u001b[49m\u001b[43m)\u001b[49m\u001b[38;5;241;43m+\u001b[39;49m\u001b[38;5;124;43m\"\u001b[39;49m\u001b[38;5;124;43m]/td[\u001b[39;49m\u001b[38;5;124;43m\"\u001b[39;49m\u001b[38;5;241;43m+\u001b[39;49m\u001b[38;5;28;43mstr\u001b[39;49m\u001b[43m(\u001b[49m\u001b[43mj\u001b[49m\u001b[43m)\u001b[49m\u001b[38;5;241;43m+\u001b[39;49m\u001b[38;5;124;43m\"\u001b[39;49m\u001b[38;5;124;43m]\u001b[39;49m\u001b[38;5;124;43m\"\u001b[39;49m\u001b[43m)\u001b[49m\u001b[38;5;241m.\u001b[39mtext\n\u001b[0;32m      8\u001b[0m         \u001b[38;5;28mprint\u001b[39m(d)\n",
      "File \u001b[1;32m~\\anaconda3\\lib\\site-packages\\selenium\\webdriver\\remote\\webdriver.py:738\u001b[0m, in \u001b[0;36mWebDriver.find_element\u001b[1;34m(self, by, value)\u001b[0m\n\u001b[0;32m    735\u001b[0m     by \u001b[38;5;241m=\u001b[39m By\u001b[38;5;241m.\u001b[39mCSS_SELECTOR\n\u001b[0;32m    736\u001b[0m     value \u001b[38;5;241m=\u001b[39m \u001b[38;5;124mf\u001b[39m\u001b[38;5;124m'\u001b[39m\u001b[38;5;124m[name=\u001b[39m\u001b[38;5;124m\"\u001b[39m\u001b[38;5;132;01m{\u001b[39;00mvalue\u001b[38;5;132;01m}\u001b[39;00m\u001b[38;5;124m\"\u001b[39m\u001b[38;5;124m]\u001b[39m\u001b[38;5;124m'\u001b[39m\n\u001b[1;32m--> 738\u001b[0m \u001b[38;5;28;01mreturn\u001b[39;00m \u001b[38;5;28;43mself\u001b[39;49m\u001b[38;5;241;43m.\u001b[39;49m\u001b[43mexecute\u001b[49m\u001b[43m(\u001b[49m\u001b[43mCommand\u001b[49m\u001b[38;5;241;43m.\u001b[39;49m\u001b[43mFIND_ELEMENT\u001b[49m\u001b[43m,\u001b[49m\u001b[43m \u001b[49m\u001b[43m{\u001b[49m\u001b[38;5;124;43m\"\u001b[39;49m\u001b[38;5;124;43musing\u001b[39;49m\u001b[38;5;124;43m\"\u001b[39;49m\u001b[43m:\u001b[49m\u001b[43m \u001b[49m\u001b[43mby\u001b[49m\u001b[43m,\u001b[49m\u001b[43m \u001b[49m\u001b[38;5;124;43m\"\u001b[39;49m\u001b[38;5;124;43mvalue\u001b[39;49m\u001b[38;5;124;43m\"\u001b[39;49m\u001b[43m:\u001b[49m\u001b[43m \u001b[49m\u001b[43mvalue\u001b[49m\u001b[43m}\u001b[49m\u001b[43m)\u001b[49m[\u001b[38;5;124m\"\u001b[39m\u001b[38;5;124mvalue\u001b[39m\u001b[38;5;124m\"\u001b[39m]\n",
      "File \u001b[1;32m~\\anaconda3\\lib\\site-packages\\selenium\\webdriver\\remote\\webdriver.py:344\u001b[0m, in \u001b[0;36mWebDriver.execute\u001b[1;34m(self, driver_command, params)\u001b[0m\n\u001b[0;32m    342\u001b[0m response \u001b[38;5;241m=\u001b[39m \u001b[38;5;28mself\u001b[39m\u001b[38;5;241m.\u001b[39mcommand_executor\u001b[38;5;241m.\u001b[39mexecute(driver_command, params)\n\u001b[0;32m    343\u001b[0m \u001b[38;5;28;01mif\u001b[39;00m response:\n\u001b[1;32m--> 344\u001b[0m     \u001b[38;5;28;43mself\u001b[39;49m\u001b[38;5;241;43m.\u001b[39;49m\u001b[43merror_handler\u001b[49m\u001b[38;5;241;43m.\u001b[39;49m\u001b[43mcheck_response\u001b[49m\u001b[43m(\u001b[49m\u001b[43mresponse\u001b[49m\u001b[43m)\u001b[49m\n\u001b[0;32m    345\u001b[0m     response[\u001b[38;5;124m\"\u001b[39m\u001b[38;5;124mvalue\u001b[39m\u001b[38;5;124m\"\u001b[39m] \u001b[38;5;241m=\u001b[39m \u001b[38;5;28mself\u001b[39m\u001b[38;5;241m.\u001b[39m_unwrap_value(response\u001b[38;5;241m.\u001b[39mget(\u001b[38;5;124m\"\u001b[39m\u001b[38;5;124mvalue\u001b[39m\u001b[38;5;124m\"\u001b[39m, \u001b[38;5;28;01mNone\u001b[39;00m))\n\u001b[0;32m    346\u001b[0m     \u001b[38;5;28;01mreturn\u001b[39;00m response\n",
      "File \u001b[1;32m~\\anaconda3\\lib\\site-packages\\selenium\\webdriver\\remote\\errorhandler.py:229\u001b[0m, in \u001b[0;36mErrorHandler.check_response\u001b[1;34m(self, response)\u001b[0m\n\u001b[0;32m    227\u001b[0m         alert_text \u001b[38;5;241m=\u001b[39m value[\u001b[38;5;124m\"\u001b[39m\u001b[38;5;124malert\u001b[39m\u001b[38;5;124m\"\u001b[39m]\u001b[38;5;241m.\u001b[39mget(\u001b[38;5;124m\"\u001b[39m\u001b[38;5;124mtext\u001b[39m\u001b[38;5;124m\"\u001b[39m)\n\u001b[0;32m    228\u001b[0m     \u001b[38;5;28;01mraise\u001b[39;00m exception_class(message, screen, stacktrace, alert_text)  \u001b[38;5;66;03m# type: ignore[call-arg]  # mypy is not smart enough here\u001b[39;00m\n\u001b[1;32m--> 229\u001b[0m \u001b[38;5;28;01mraise\u001b[39;00m exception_class(message, screen, stacktrace)\n",
      "\u001b[1;31mNoSuchElementException\u001b[0m: Message: no such element: Unable to locate element: {\"method\":\"xpath\",\"selector\":\"//tr[21]/td[1]\"}\n  (Session info: chrome=118.0.5993.120); For documentation on this error, please visit: https://www.selenium.dev/documentation/webdriver/troubleshooting/errors#no-such-element-exception\nStacktrace:\n\tGetHandleVerifier [0x00007FF704A78EF2+54786]\n\t(No symbol) [0x00007FF7049E5612]\n\t(No symbol) [0x00007FF70489A64B]\n\t(No symbol) [0x00007FF7048DB79C]\n\t(No symbol) [0x00007FF7048DB91C]\n\t(No symbol) [0x00007FF704916D87]\n\t(No symbol) [0x00007FF7048FBEAF]\n\t(No symbol) [0x00007FF704914D02]\n\t(No symbol) [0x00007FF7048FBC43]\n\t(No symbol) [0x00007FF7048D0941]\n\t(No symbol) [0x00007FF7048D1B84]\n\tGetHandleVerifier [0x00007FF704DC7F52+3524194]\n\tGetHandleVerifier [0x00007FF704E1D800+3874576]\n\tGetHandleVerifier [0x00007FF704E15D7F+3843215]\n\tGetHandleVerifier [0x00007FF704B15086+694166]\n\t(No symbol) [0x00007FF7049F0A88]\n\t(No symbol) [0x00007FF7049ECA94]\n\t(No symbol) [0x00007FF7049ECBC2]\n\t(No symbol) [0x00007FF7049DCC83]\n\tBaseThreadInitThunk [0x00007FFD62C9257D+29]\n\tRtlUserThreadStart [0x00007FFD62DEAA78+40]\n"
     ]
    }
   ],
   "source": [
    "r = driver.find_elements(By.XPATH,\"//*[@class='table-box']/table[1]/tbody/tr\")\n",
    "c = driver.find_elements(By.XPATH,\"//*[@class='table-box']/table[1]/tbody/tr[2]/td\")\n",
    "rc = len(r)\n",
    "cc = len(c)\n",
    "for i in range(2,rc+1):\n",
    "    for j in range(1,cc+1):\n",
    "        d = driver.find_element(By.XPATH,\"//tr[\"+str(i)+\"]/td[\"+str(j)+\"]\").text\n",
    "        print(d)"
   ]
  },
  {
   "cell_type": "code",
   "execution_count": 124,
   "id": "bd3df19a",
   "metadata": {},
   "outputs": [
    {
     "data": {
      "text/html": [
       "<div>\n",
       "<style scoped>\n",
       "    .dataframe tbody tr th:only-of-type {\n",
       "        vertical-align: middle;\n",
       "    }\n",
       "\n",
       "    .dataframe tbody tr th {\n",
       "        vertical-align: top;\n",
       "    }\n",
       "\n",
       "    .dataframe thead th {\n",
       "        text-align: right;\n",
       "    }\n",
       "</style>\n",
       "<table border=\"1\" class=\"dataframe\">\n",
       "  <thead>\n",
       "    <tr style=\"text-align: right;\">\n",
       "      <th></th>\n",
       "      <th>Name</th>\n",
       "      <th>Born-Dead</th>\n",
       "      <th>Term of Office</th>\n",
       "      <th>Remarks</th>\n",
       "    </tr>\n",
       "  </thead>\n",
       "  <tbody>\n",
       "    <tr>\n",
       "      <th>0</th>\n",
       "      <td>Jawahar Lal Nehru</td>\n",
       "      <td>(1889–1964)</td>\n",
       "      <td>15 August 1947 to 27 May 1964-16 years- 286 days</td>\n",
       "      <td>The first prime minister of India and the long...</td>\n",
       "    </tr>\n",
       "    <tr>\n",
       "      <th>1</th>\n",
       "      <td>Gulzarilal Nanda (Acting)</td>\n",
       "      <td>(1898-1998)</td>\n",
       "      <td>27 May 1964 to 9 June 1964-13 days</td>\n",
       "      <td>First acting PM of India</td>\n",
       "    </tr>\n",
       "    <tr>\n",
       "      <th>2</th>\n",
       "      <td>Lal Bahadur Shastri</td>\n",
       "      <td>(1904–1966)</td>\n",
       "      <td>9 June 1964 to 11 January 1966 1 year- 216 days</td>\n",
       "      <td>He has given the slogan of 'Jai Jawan Jai Kisa...</td>\n",
       "    </tr>\n",
       "    <tr>\n",
       "      <th>3</th>\n",
       "      <td>Gulzari Lal Nanda</td>\n",
       "      <td>(1898-1998)</td>\n",
       "      <td>11 January 1966 to 24 January 1966 - 13 days</td>\n",
       "      <td>-</td>\n",
       "    </tr>\n",
       "    <tr>\n",
       "      <th>4</th>\n",
       "      <td>Indira Gandhi</td>\n",
       "      <td>(1917–1984)</td>\n",
       "      <td>24 January 1966 to 24 March 1977 - 11 years 59...</td>\n",
       "      <td>First female Prime Minister of India</td>\n",
       "    </tr>\n",
       "    <tr>\n",
       "      <th>5</th>\n",
       "      <td>Morarji Desai</td>\n",
       "      <td>(1896–1995)</td>\n",
       "      <td>24 March 1977 to  28 July 1979 - 2 year 126 days</td>\n",
       "      <td>Oldest to become PM (81 years old) and first t...</td>\n",
       "    </tr>\n",
       "    <tr>\n",
       "      <th>6</th>\n",
       "      <td>Charan Singh</td>\n",
       "      <td>(1902–1987)</td>\n",
       "      <td>28 July 1979 to 14 January 1980 - 170 days</td>\n",
       "      <td>Only PM who did not face the Parliament</td>\n",
       "    </tr>\n",
       "    <tr>\n",
       "      <th>7</th>\n",
       "      <td>Indira Gandhi</td>\n",
       "      <td>(1917–1984)</td>\n",
       "      <td>14 January 1980 to 31 October 1984 - 4 years 2...</td>\n",
       "      <td>The first lady who served as PM for the second...</td>\n",
       "    </tr>\n",
       "    <tr>\n",
       "      <th>8</th>\n",
       "      <td>Rajiv Gandhi</td>\n",
       "      <td>(1944–1991)</td>\n",
       "      <td>31 October 1984 to 2 December 1989 - 5 years 3...</td>\n",
       "      <td>Youngest to become PM (40 years old)</td>\n",
       "    </tr>\n",
       "    <tr>\n",
       "      <th>9</th>\n",
       "      <td>V. P. Singh</td>\n",
       "      <td>(1931–2008)</td>\n",
       "      <td>2 December 1989 to 10 November 1990 - 343 days</td>\n",
       "      <td>First PM to step down after a vote of no confi...</td>\n",
       "    </tr>\n",
       "    <tr>\n",
       "      <th>10</th>\n",
       "      <td>Chandra Shekhar</td>\n",
       "      <td>(1927–2007)</td>\n",
       "      <td>10 November 1990 to 21 June 1991 - 223 days</td>\n",
       "      <td>He belongs to  Samajwadi Janata Party</td>\n",
       "    </tr>\n",
       "    <tr>\n",
       "      <th>11</th>\n",
       "      <td>P. V. Narasimha Rao</td>\n",
       "      <td>(1921–2004)</td>\n",
       "      <td>21 June 1991 to 16 May 1996 4 years - 330 days</td>\n",
       "      <td>First PM from South India</td>\n",
       "    </tr>\n",
       "    <tr>\n",
       "      <th>12</th>\n",
       "      <td>Atal Bihari Vajpayee</td>\n",
       "      <td>(1924- 2018)</td>\n",
       "      <td>16 May 1996 to 1 June 1996 - 16 days</td>\n",
       "      <td>PM for shortest tenure</td>\n",
       "    </tr>\n",
       "    <tr>\n",
       "      <th>13</th>\n",
       "      <td>H. D. Deve Gowda</td>\n",
       "      <td>(born 1933)</td>\n",
       "      <td>1 June 1996 to 21 April 1997 - 324 days</td>\n",
       "      <td>He belongs to  Janata Dal</td>\n",
       "    </tr>\n",
       "    <tr>\n",
       "      <th>14</th>\n",
       "      <td>Inder Kumar Gujral</td>\n",
       "      <td>(1919–2012)</td>\n",
       "      <td>21 April 1997 to 19 March 1998 - 332 days</td>\n",
       "      <td>------</td>\n",
       "    </tr>\n",
       "    <tr>\n",
       "      <th>15</th>\n",
       "      <td>Atal Bihari Vajpayee</td>\n",
       "      <td>(1924-2018)</td>\n",
       "      <td>19 March 1998 to 22 May 2004 6 years - 64 days</td>\n",
       "      <td>The first non-congress PM who completed a full...</td>\n",
       "    </tr>\n",
       "    <tr>\n",
       "      <th>16</th>\n",
       "      <td>Manmohan Singh</td>\n",
       "      <td>(born 1932)</td>\n",
       "      <td>22 May 2004 to 26 May 2014 10 years - 4 days</td>\n",
       "      <td>First Sikh PM</td>\n",
       "    </tr>\n",
       "    <tr>\n",
       "      <th>17</th>\n",
       "      <td>Narendra Modi</td>\n",
       "      <td>(born 1950)</td>\n",
       "      <td>26 May 2014 - 2019</td>\n",
       "      <td>4th Prime Minister of India who served two con...</td>\n",
       "    </tr>\n",
       "    <tr>\n",
       "      <th>18</th>\n",
       "      <td>Narendra Modi</td>\n",
       "      <td>(born 1950)</td>\n",
       "      <td>30 May 2019- Incumbent</td>\n",
       "      <td>First non-congress PM with two consecutive ten...</td>\n",
       "    </tr>\n",
       "  </tbody>\n",
       "</table>\n",
       "</div>"
      ],
      "text/plain": [
       "                         Name     Born-Dead  \\\n",
       "0           Jawahar Lal Nehru   (1889–1964)   \n",
       "1   Gulzarilal Nanda (Acting)   (1898-1998)   \n",
       "2         Lal Bahadur Shastri   (1904–1966)   \n",
       "3           Gulzari Lal Nanda   (1898-1998)   \n",
       "4               Indira Gandhi   (1917–1984)   \n",
       "5               Morarji Desai   (1896–1995)   \n",
       "6                Charan Singh   (1902–1987)   \n",
       "7               Indira Gandhi   (1917–1984)   \n",
       "8                Rajiv Gandhi   (1944–1991)   \n",
       "9                 V. P. Singh   (1931–2008)   \n",
       "10            Chandra Shekhar   (1927–2007)   \n",
       "11        P. V. Narasimha Rao   (1921–2004)   \n",
       "12       Atal Bihari Vajpayee  (1924- 2018)   \n",
       "13           H. D. Deve Gowda   (born 1933)   \n",
       "14         Inder Kumar Gujral   (1919–2012)   \n",
       "15       Atal Bihari Vajpayee   (1924-2018)   \n",
       "16             Manmohan Singh   (born 1932)   \n",
       "17              Narendra Modi   (born 1950)   \n",
       "18              Narendra Modi   (born 1950)   \n",
       "\n",
       "                                       Term of Office  \\\n",
       "0    15 August 1947 to 27 May 1964-16 years- 286 days   \n",
       "1                  27 May 1964 to 9 June 1964-13 days   \n",
       "2     9 June 1964 to 11 January 1966 1 year- 216 days   \n",
       "3        11 January 1966 to 24 January 1966 - 13 days   \n",
       "4   24 January 1966 to 24 March 1977 - 11 years 59...   \n",
       "5    24 March 1977 to  28 July 1979 - 2 year 126 days   \n",
       "6          28 July 1979 to 14 January 1980 - 170 days   \n",
       "7   14 January 1980 to 31 October 1984 - 4 years 2...   \n",
       "8   31 October 1984 to 2 December 1989 - 5 years 3...   \n",
       "9      2 December 1989 to 10 November 1990 - 343 days   \n",
       "10        10 November 1990 to 21 June 1991 - 223 days   \n",
       "11     21 June 1991 to 16 May 1996 4 years - 330 days   \n",
       "12               16 May 1996 to 1 June 1996 - 16 days   \n",
       "13            1 June 1996 to 21 April 1997 - 324 days   \n",
       "14          21 April 1997 to 19 March 1998 - 332 days   \n",
       "15     19 March 1998 to 22 May 2004 6 years - 64 days   \n",
       "16       22 May 2004 to 26 May 2014 10 years - 4 days   \n",
       "17                                 26 May 2014 - 2019   \n",
       "18                             30 May 2019- Incumbent   \n",
       "\n",
       "                                              Remarks  \n",
       "0   The first prime minister of India and the long...  \n",
       "1                            First acting PM of India  \n",
       "2   He has given the slogan of 'Jai Jawan Jai Kisa...  \n",
       "3                                                   -  \n",
       "4                First female Prime Minister of India  \n",
       "5   Oldest to become PM (81 years old) and first t...  \n",
       "6             Only PM who did not face the Parliament  \n",
       "7   The first lady who served as PM for the second...  \n",
       "8                Youngest to become PM (40 years old)  \n",
       "9   First PM to step down after a vote of no confi...  \n",
       "10              He belongs to  Samajwadi Janata Party  \n",
       "11                          First PM from South India  \n",
       "12                             PM for shortest tenure  \n",
       "13                          He belongs to  Janata Dal  \n",
       "14                                             ------  \n",
       "15  The first non-congress PM who completed a full...  \n",
       "16                                      First Sikh PM  \n",
       "17  4th Prime Minister of India who served two con...  \n",
       "18  First non-congress PM with two consecutive ten...  "
      ]
     },
     "execution_count": 124,
     "metadata": {},
     "output_type": "execute_result"
    }
   ],
   "source": [
    "#Data taken from the above output..\n",
    "remarks = ['The first prime minister of India and the longest-serving PM of India, the first to die in office.',\n",
    "'First acting PM of India',\n",
    "\"He has given the slogan of 'Jai Jawan Jai Kisan' during the Indo-Pak war of 1965\",\n",
    "'-',\n",
    "'First female Prime Minister of India',\n",
    "'Oldest to become PM (81 years old) and first to resign from office',\n",
    "'Only PM who did not face the Parliament',\n",
    "'The first lady who served as PM for the second term',\n",
    "'Youngest to become PM (40 years old)',\n",
    "'First PM to step down after a vote of no confidence',\n",
    "'He belongs to  Samajwadi Janata Party',\n",
    "'First PM from South India',\n",
    "'PM for shortest tenure',\n",
    "'He belongs to  Janata Dal',\n",
    "'------',\n",
    "'The first non-congress PM who completed a full term as PM',\n",
    "'First Sikh PM',\n",
    "'4th Prime Minister of India who served two consecutive tenures',\n",
    "'First non-congress PM with two consecutive tenures']\n",
    "term_of_office = ['15 August 1947 to 27 May 1964-16 years- 286 days',\n",
    "'27 May 1964 to 9 June 1964-13 days',\n",
    "'9 June 1964 to 11 January 1966 1 year- 216 days',\n",
    "'11 January 1966 to 24 January 1966 - 13 days',\n",
    "'24 January 1966 to 24 March 1977 - 11 years 59 days',\n",
    "'24 March 1977 to  28 July 1979 - 2 year 126 days',\n",
    "'28 July 1979 to 14 January 1980 - 170 days',\n",
    "'14 January 1980 to 31 October 1984 - 4 years 291 days',\n",
    "'31 October 1984 to 2 December 1989 - 5 years 32 days',\n",
    "'2 December 1989 to 10 November 1990 - 343 days',\n",
    "'10 November 1990 to 21 June 1991 - 223 days',\n",
    "'21 June 1991 to 16 May 1996 4 years - 330 days',\n",
    "'16 May 1996 to 1 June 1996 - 16 days',\n",
    "'1 June 1996 to 21 April 1997 - 324 days',\n",
    "'21 April 1997 to 19 March 1998 - 332 days',\n",
    "'19 March 1998 to 22 May 2004 6 years - 64 days',\n",
    "'22 May 2004 to 26 May 2014 10 years - 4 days',\n",
    "'26 May 2014 - 2019',\n",
    "'30 May 2019- Incumbent',]\n",
    "name = ['Jawahar Lal Nehru','Gulzarilal Nanda (Acting)','Lal Bahadur Shastri','Gulzari Lal Nanda','Indira Gandhi','Morarji Desai','Charan Singh','Indira Gandhi','Rajiv Gandhi','V. P. Singh','Chandra Shekhar','P. V. Narasimha Rao','Atal Bihari Vajpayee','H. D. Deve Gowda','Inder Kumar Gujral','Atal Bihari Vajpayee','Manmohan Singh','Narendra Modi','Narendra Modi']\n",
    "born_dead = ['(1889–1964)','(1898-1998)','(1904–1966)','(1898-1998)','(1917–1984)','(1896–1995)','(1902–1987)','(1917–1984)','(1944–1991)','(1931–2008)','(1927–2007)','(1921–2004)','(1924- 2018)','(born 1933)','(1919–2012)','(1924-2018)','(born 1932)','(born 1950)','(born 1950)']\n",
    "import pandas as pd\n",
    "df = pd.DataFrame({'Name':name,'Born-Dead':born_dead,'Term of Office':term_of_office,'Remarks':remarks})\n",
    "df"
   ]
  },
  {
   "cell_type": "markdown",
   "id": "46bf0977",
   "metadata": {},
   "source": [
    "QUESTION 10"
   ]
  },
  {
   "cell_type": "code",
   "execution_count": 20,
   "id": "8fdbffa9",
   "metadata": {},
   "outputs": [],
   "source": [
    "''' Write a python program to display list of 50 Most expensive cars in the world (i.e.\n",
    "Car name and Price) from https://www.motor1.com/\n",
    "This task will be done in following steps:\n",
    "1. First get the webpage https://www.motor1.com/\n",
    "2. Then You have to type in the search bar ’50 most expensive cars’\n",
    "3. Then click on 50 most expensive cars in the world.\n",
    "4. Then scrap the mentioned data and make the dataframe.'''\n",
    "import selenium\n",
    "from selenium import webdriver\n",
    "import pandas as pd\n",
    "from selenium.webdriver.common.by import By\n",
    "import warnings\n",
    "warnings.filterwarnings(\"ignore\")\n",
    "import time\n",
    "from bs4 import BeautifulSoup\n",
    "import requests"
   ]
  },
  {
   "cell_type": "code",
   "execution_count": 2,
   "id": "3b0f82ca",
   "metadata": {},
   "outputs": [],
   "source": [
    "driver = webdriver.Chrome()"
   ]
  },
  {
   "cell_type": "code",
   "execution_count": 3,
   "id": "b563b5e2",
   "metadata": {},
   "outputs": [],
   "source": [
    "driver.get(\"https://www.motor1.com/\")"
   ]
  },
  {
   "cell_type": "code",
   "execution_count": 4,
   "id": "6d78e6cf",
   "metadata": {},
   "outputs": [],
   "source": [
    "de_5=driver.find_element(By.XPATH,\"/html/body/div[10]/div[2]/div/div/div[3]/div/div/div/form/input\")\n",
    "de_5.send_keys('50 most expensive cars')"
   ]
  },
  {
   "cell_type": "code",
   "execution_count": 5,
   "id": "fd3c38f4",
   "metadata": {},
   "outputs": [],
   "source": [
    "search = driver.find_element(By.XPATH,\"/html/body/div[10]/div[2]/div/div/div[3]/div/div/div/form/button[1]\")\n",
    "search.click()"
   ]
  },
  {
   "cell_type": "code",
   "execution_count": 6,
   "id": "d76ea347",
   "metadata": {},
   "outputs": [],
   "source": [
    "search_1 = driver.find_element(By.XPATH,\"/html/body/div[10]/div[9]/div/div[1]/div/div/div[2]/div/div[1]\")\n",
    "search_1.click()"
   ]
  },
  {
   "cell_type": "code",
   "execution_count": 27,
   "id": "904fb76a",
   "metadata": {},
   "outputs": [],
   "source": [
    "page = requests.get('https://www.motor1.com/features/308149/most-expensive-new-cars-ever/')\n",
    "soup = BeautifulSoup(page.content)\n",
    "car_name = []\n",
    "for i in soup.find_all('h3',class_=\"subheader\"):\n",
    "    car_name.append(i.text)"
   ]
  },
  {
   "cell_type": "code",
   "execution_count": 25,
   "id": "ddc29964",
   "metadata": {},
   "outputs": [],
   "source": [
    "c_n = car_name[:50]"
   ]
  },
  {
   "cell_type": "code",
   "execution_count": 28,
   "id": "586c7e29",
   "metadata": {},
   "outputs": [
    {
     "data": {
      "text/html": [
       "<div>\n",
       "<style scoped>\n",
       "    .dataframe tbody tr th:only-of-type {\n",
       "        vertical-align: middle;\n",
       "    }\n",
       "\n",
       "    .dataframe tbody tr th {\n",
       "        vertical-align: top;\n",
       "    }\n",
       "\n",
       "    .dataframe thead th {\n",
       "        text-align: right;\n",
       "    }\n",
       "</style>\n",
       "<table border=\"1\" class=\"dataframe\">\n",
       "  <thead>\n",
       "    <tr style=\"text-align: right;\">\n",
       "      <th></th>\n",
       "      <th>CARS</th>\n",
       "    </tr>\n",
       "  </thead>\n",
       "  <tbody>\n",
       "    <tr>\n",
       "      <th>0</th>\n",
       "      <td>Aston Martin Valour</td>\n",
       "    </tr>\n",
       "    <tr>\n",
       "      <th>1</th>\n",
       "      <td>McLaren Elva</td>\n",
       "    </tr>\n",
       "    <tr>\n",
       "      <th>2</th>\n",
       "      <td>Czinger 21C</td>\n",
       "    </tr>\n",
       "    <tr>\n",
       "      <th>3</th>\n",
       "      <td>Ferrari Monza</td>\n",
       "    </tr>\n",
       "    <tr>\n",
       "      <th>4</th>\n",
       "      <td>Gordon Murray T.33</td>\n",
       "    </tr>\n",
       "    <tr>\n",
       "      <th>5</th>\n",
       "      <td>Koenigsegg Gemera</td>\n",
       "    </tr>\n",
       "    <tr>\n",
       "      <th>6</th>\n",
       "      <td>Zenvo TSR-S</td>\n",
       "    </tr>\n",
       "    <tr>\n",
       "      <th>7</th>\n",
       "      <td>Hennessey Venom F5</td>\n",
       "    </tr>\n",
       "    <tr>\n",
       "      <th>8</th>\n",
       "      <td>Bentley Bacalar</td>\n",
       "    </tr>\n",
       "    <tr>\n",
       "      <th>9</th>\n",
       "      <td>Hispano Suiza Carmen Boulogne</td>\n",
       "    </tr>\n",
       "    <tr>\n",
       "      <th>10</th>\n",
       "      <td>Bentley Mulliner Batur</td>\n",
       "    </tr>\n",
       "    <tr>\n",
       "      <th>11</th>\n",
       "      <td>Deus Vayanne</td>\n",
       "    </tr>\n",
       "    <tr>\n",
       "      <th>12</th>\n",
       "      <td>SSC Tuatara</td>\n",
       "    </tr>\n",
       "    <tr>\n",
       "      <th>13</th>\n",
       "      <td>Lotus Evija</td>\n",
       "    </tr>\n",
       "    <tr>\n",
       "      <th>14</th>\n",
       "      <td>Aston Martin Vulcan</td>\n",
       "    </tr>\n",
       "    <tr>\n",
       "      <th>15</th>\n",
       "      <td>Delage D12</td>\n",
       "    </tr>\n",
       "    <tr>\n",
       "      <th>16</th>\n",
       "      <td>Ferrari Daytona SP3</td>\n",
       "    </tr>\n",
       "    <tr>\n",
       "      <th>17</th>\n",
       "      <td>McLaren Speedtail</td>\n",
       "    </tr>\n",
       "    <tr>\n",
       "      <th>18</th>\n",
       "      <td>Rimac Nevera</td>\n",
       "    </tr>\n",
       "    <tr>\n",
       "      <th>19</th>\n",
       "      <td>Pagani Utopia</td>\n",
       "    </tr>\n",
       "    <tr>\n",
       "      <th>20</th>\n",
       "      <td>Pininfarina Battista</td>\n",
       "    </tr>\n",
       "    <tr>\n",
       "      <th>21</th>\n",
       "      <td>Gordon Murray T.50</td>\n",
       "    </tr>\n",
       "    <tr>\n",
       "      <th>22</th>\n",
       "      <td>Lamborghini Countach</td>\n",
       "    </tr>\n",
       "    <tr>\n",
       "      <th>23</th>\n",
       "      <td>Mercedes-AMG Project One</td>\n",
       "    </tr>\n",
       "    <tr>\n",
       "      <th>24</th>\n",
       "      <td>Zenvo Aurora</td>\n",
       "    </tr>\n",
       "    <tr>\n",
       "      <th>25</th>\n",
       "      <td>Aston Martin Victor</td>\n",
       "    </tr>\n",
       "    <tr>\n",
       "      <th>26</th>\n",
       "      <td>Hennessey Venom F5 Roadster</td>\n",
       "    </tr>\n",
       "    <tr>\n",
       "      <th>27</th>\n",
       "      <td>Koenigsegg Jesko</td>\n",
       "    </tr>\n",
       "    <tr>\n",
       "      <th>28</th>\n",
       "      <td>Aston Martin Valkyrie</td>\n",
       "    </tr>\n",
       "    <tr>\n",
       "      <th>29</th>\n",
       "      <td>W Motors Lykan Hypersport</td>\n",
       "    </tr>\n",
       "    <tr>\n",
       "      <th>30</th>\n",
       "      <td>McLaren Solus</td>\n",
       "    </tr>\n",
       "    <tr>\n",
       "      <th>31</th>\n",
       "      <td>Lamborghini Sian</td>\n",
       "    </tr>\n",
       "    <tr>\n",
       "      <th>32</th>\n",
       "      <td>Koenigsegg CC850</td>\n",
       "    </tr>\n",
       "    <tr>\n",
       "      <th>33</th>\n",
       "      <td>Bugatti Chiron Super Sport 300+</td>\n",
       "    </tr>\n",
       "    <tr>\n",
       "      <th>34</th>\n",
       "      <td>Lamborghini Veneno</td>\n",
       "    </tr>\n",
       "    <tr>\n",
       "      <th>35</th>\n",
       "      <td>Bugatti Bolide</td>\n",
       "    </tr>\n",
       "    <tr>\n",
       "      <th>36</th>\n",
       "      <td>Pininfarina B95 Speedster</td>\n",
       "    </tr>\n",
       "    <tr>\n",
       "      <th>37</th>\n",
       "      <td>Bugatti Mistral</td>\n",
       "    </tr>\n",
       "    <tr>\n",
       "      <th>38</th>\n",
       "      <td>Pagani Huayra Imola</td>\n",
       "    </tr>\n",
       "    <tr>\n",
       "      <th>39</th>\n",
       "      <td>Bugatti Divo</td>\n",
       "    </tr>\n",
       "    <tr>\n",
       "      <th>40</th>\n",
       "      <td>SP Automotive Chaos</td>\n",
       "    </tr>\n",
       "    <tr>\n",
       "      <th>41</th>\n",
       "      <td>Pagani Codalunga</td>\n",
       "    </tr>\n",
       "    <tr>\n",
       "      <th>42</th>\n",
       "      <td>777 Hypercar</td>\n",
       "    </tr>\n",
       "    <tr>\n",
       "      <th>43</th>\n",
       "      <td>Mercedes-Maybach Exelero</td>\n",
       "    </tr>\n",
       "    <tr>\n",
       "      <th>44</th>\n",
       "      <td>Bugatti Centodieci</td>\n",
       "    </tr>\n",
       "    <tr>\n",
       "      <th>45</th>\n",
       "      <td>Bugatti Chiron Profilée</td>\n",
       "    </tr>\n",
       "    <tr>\n",
       "      <th>46</th>\n",
       "      <td>Rolls-Royce Sweptail</td>\n",
       "    </tr>\n",
       "    <tr>\n",
       "      <th>47</th>\n",
       "      <td>Bugatti La Voiture Noire</td>\n",
       "    </tr>\n",
       "    <tr>\n",
       "      <th>48</th>\n",
       "      <td>Rolls-Royce Boat Tail*</td>\n",
       "    </tr>\n",
       "    <tr>\n",
       "      <th>49</th>\n",
       "      <td>Rolls-Royce La Rose Noire Droptail</td>\n",
       "    </tr>\n",
       "  </tbody>\n",
       "</table>\n",
       "</div>"
      ],
      "text/plain": [
       "                                  CARS\n",
       "0                  Aston Martin Valour\n",
       "1                         McLaren Elva\n",
       "2                          Czinger 21C\n",
       "3                        Ferrari Monza\n",
       "4                   Gordon Murray T.33\n",
       "5                    Koenigsegg Gemera\n",
       "6                          Zenvo TSR-S\n",
       "7                   Hennessey Venom F5\n",
       "8                      Bentley Bacalar\n",
       "9        Hispano Suiza Carmen Boulogne\n",
       "10              Bentley Mulliner Batur\n",
       "11                        Deus Vayanne\n",
       "12                         SSC Tuatara\n",
       "13                         Lotus Evija\n",
       "14                 Aston Martin Vulcan\n",
       "15                          Delage D12\n",
       "16                 Ferrari Daytona SP3\n",
       "17                   McLaren Speedtail\n",
       "18                        Rimac Nevera\n",
       "19                       Pagani Utopia\n",
       "20                Pininfarina Battista\n",
       "21                  Gordon Murray T.50\n",
       "22                Lamborghini Countach\n",
       "23            Mercedes-AMG Project One\n",
       "24                        Zenvo Aurora\n",
       "25                 Aston Martin Victor\n",
       "26         Hennessey Venom F5 Roadster\n",
       "27                    Koenigsegg Jesko\n",
       "28               Aston Martin Valkyrie\n",
       "29           W Motors Lykan Hypersport\n",
       "30                       McLaren Solus\n",
       "31                    Lamborghini Sian\n",
       "32                    Koenigsegg CC850\n",
       "33     Bugatti Chiron Super Sport 300+\n",
       "34                  Lamborghini Veneno\n",
       "35                      Bugatti Bolide\n",
       "36           Pininfarina B95 Speedster\n",
       "37                     Bugatti Mistral\n",
       "38                 Pagani Huayra Imola\n",
       "39                        Bugatti Divo\n",
       "40                 SP Automotive Chaos\n",
       "41                    Pagani Codalunga\n",
       "42                        777 Hypercar\n",
       "43            Mercedes-Maybach Exelero\n",
       "44                  Bugatti Centodieci\n",
       "45             Bugatti Chiron Profilée\n",
       "46                Rolls-Royce Sweptail\n",
       "47            Bugatti La Voiture Noire\n",
       "48              Rolls-Royce Boat Tail*\n",
       "49  Rolls-Royce La Rose Noire Droptail"
      ]
     },
     "execution_count": 28,
     "metadata": {},
     "output_type": "execute_result"
    }
   ],
   "source": [
    "import pandas as pd\n",
    "df = pd.DataFrame({'CARS':c_n})\n",
    "df"
   ]
  }
 ],
 "metadata": {
  "kernelspec": {
   "display_name": "Python 3 (ipykernel)",
   "language": "python",
   "name": "python3"
  },
  "language_info": {
   "codemirror_mode": {
    "name": "ipython",
    "version": 3
   },
   "file_extension": ".py",
   "mimetype": "text/x-python",
   "name": "python",
   "nbconvert_exporter": "python",
   "pygments_lexer": "ipython3",
   "version": "3.10.9"
  }
 },
 "nbformat": 4,
 "nbformat_minor": 5
}
